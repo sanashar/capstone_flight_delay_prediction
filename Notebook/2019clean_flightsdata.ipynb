{
  "nbformat": 4,
  "nbformat_minor": 0,
  "metadata": {
    "colab": {
      "name": "2019clean_flightsdata.ipynb",
      "provenance": []
    },
    "kernelspec": {
      "name": "python3",
      "display_name": "Python 3"
    },
    "language_info": {
      "name": "python"
    }
  },
  "cells": [
    {
      "cell_type": "code",
      "metadata": {
        "id": "fZNjBzXBOYHt"
      },
      "source": [
        "import io\n",
        "import pandas as pd\n",
        "import seaborn as sns \n",
        "import matplotlib\n",
        "from matplotlib import pyplot as plt\n",
        "from scipy import stats as sts  \n",
        "import datetime as dt\n",
        "from collections import Counter\n",
        "import os\n",
        "import numpy as np"
      ],
      "execution_count": null,
      "outputs": []
    },
    {
      "cell_type": "code",
      "metadata": {
        "id": "26SdX-hBQNm2"
      },
      "source": [
        "df = pd.read_csv(\"/content/flights_jan2019.csv\")"
      ],
      "execution_count": null,
      "outputs": []
    },
    {
      "cell_type": "code",
      "metadata": {
        "colab": {
          "base_uri": "https://localhost:8080/",
          "height": 326
        },
        "id": "u6RTeWo9QNpO",
        "outputId": "2e54897a-96d5-45c8-ebfb-5d16187fe10e"
      },
      "source": [
        "df.head()"
      ],
      "execution_count": null,
      "outputs": [
        {
          "output_type": "execute_result",
          "data": {
            "text/html": [
              "<div>\n",
              "<style scoped>\n",
              "    .dataframe tbody tr th:only-of-type {\n",
              "        vertical-align: middle;\n",
              "    }\n",
              "\n",
              "    .dataframe tbody tr th {\n",
              "        vertical-align: top;\n",
              "    }\n",
              "\n",
              "    .dataframe thead th {\n",
              "        text-align: right;\n",
              "    }\n",
              "</style>\n",
              "<table border=\"1\" class=\"dataframe\">\n",
              "  <thead>\n",
              "    <tr style=\"text-align: right;\">\n",
              "      <th></th>\n",
              "      <th>YEAR</th>\n",
              "      <th>QUARTER</th>\n",
              "      <th>MONTH</th>\n",
              "      <th>DAY_OF_MONTH</th>\n",
              "      <th>DAY_OF_WEEK</th>\n",
              "      <th>FL_DATE</th>\n",
              "      <th>OP_UNIQUE_CARRIER</th>\n",
              "      <th>OP_CARRIER_AIRLINE_ID</th>\n",
              "      <th>TAIL_NUM</th>\n",
              "      <th>OP_CARRIER_FL_NUM</th>\n",
              "      <th>ORIGIN</th>\n",
              "      <th>ORIGIN_CITY_NAME</th>\n",
              "      <th>ORIGIN_STATE_ABR</th>\n",
              "      <th>ORIGIN_STATE_FIPS</th>\n",
              "      <th>ORIGIN_STATE_NM</th>\n",
              "      <th>ORIGIN_WAC</th>\n",
              "      <th>DEST</th>\n",
              "      <th>DEST_CITY_NAME</th>\n",
              "      <th>DEST_STATE_ABR</th>\n",
              "      <th>DEST_STATE_FIPS</th>\n",
              "      <th>DEST_STATE_NM</th>\n",
              "      <th>DEST_WAC</th>\n",
              "      <th>DEP_TIME</th>\n",
              "      <th>DEP_DELAY</th>\n",
              "      <th>DEP_DELAY_NEW</th>\n",
              "      <th>DEP_DEL15</th>\n",
              "      <th>DEP_DELAY_GROUP</th>\n",
              "      <th>DEP_TIME_BLK</th>\n",
              "      <th>TAXI_OUT</th>\n",
              "      <th>WHEELS_OFF</th>\n",
              "      <th>WHEELS_ON</th>\n",
              "      <th>TAXI_IN</th>\n",
              "      <th>ARR_TIME</th>\n",
              "      <th>ARR_DELAY</th>\n",
              "      <th>ARR_DELAY_NEW</th>\n",
              "      <th>ARR_DEL15</th>\n",
              "      <th>ARR_DELAY_GROUP</th>\n",
              "      <th>ARR_TIME_BLK</th>\n",
              "      <th>CANCELLED</th>\n",
              "      <th>CANCELLATION_CODE</th>\n",
              "      <th>DIVERTED</th>\n",
              "      <th>AIR_TIME</th>\n",
              "      <th>FLIGHTS</th>\n",
              "      <th>DISTANCE</th>\n",
              "      <th>DISTANCE_GROUP</th>\n",
              "      <th>CARRIER_DELAY</th>\n",
              "      <th>WEATHER_DELAY</th>\n",
              "      <th>NAS_DELAY</th>\n",
              "      <th>SECURITY_DELAY</th>\n",
              "      <th>LATE_AIRCRAFT_DELAY</th>\n",
              "      <th>Unnamed: 50</th>\n",
              "    </tr>\n",
              "  </thead>\n",
              "  <tbody>\n",
              "    <tr>\n",
              "      <th>0</th>\n",
              "      <td>2019</td>\n",
              "      <td>1</td>\n",
              "      <td>1</td>\n",
              "      <td>6</td>\n",
              "      <td>7</td>\n",
              "      <td>2019-01-06</td>\n",
              "      <td>9E</td>\n",
              "      <td>20363</td>\n",
              "      <td>N8694A</td>\n",
              "      <td>3280</td>\n",
              "      <td>ATL</td>\n",
              "      <td>Atlanta, GA</td>\n",
              "      <td>GA</td>\n",
              "      <td>13</td>\n",
              "      <td>Georgia</td>\n",
              "      <td>34</td>\n",
              "      <td>CSG</td>\n",
              "      <td>Columbus, GA</td>\n",
              "      <td>GA</td>\n",
              "      <td>13</td>\n",
              "      <td>Georgia</td>\n",
              "      <td>34</td>\n",
              "      <td>1643.0</td>\n",
              "      <td>-2.0</td>\n",
              "      <td>0.0</td>\n",
              "      <td>0.0</td>\n",
              "      <td>-1.0</td>\n",
              "      <td>1600-1659</td>\n",
              "      <td>17.0</td>\n",
              "      <td>1700.0</td>\n",
              "      <td>1718.0</td>\n",
              "      <td>2.0</td>\n",
              "      <td>1720.0</td>\n",
              "      <td>-12.0</td>\n",
              "      <td>0.0</td>\n",
              "      <td>0.0</td>\n",
              "      <td>-1.0</td>\n",
              "      <td>1700-1759</td>\n",
              "      <td>0.0</td>\n",
              "      <td>NaN</td>\n",
              "      <td>0.0</td>\n",
              "      <td>18.0</td>\n",
              "      <td>1.0</td>\n",
              "      <td>83.0</td>\n",
              "      <td>1</td>\n",
              "      <td>NaN</td>\n",
              "      <td>NaN</td>\n",
              "      <td>NaN</td>\n",
              "      <td>NaN</td>\n",
              "      <td>NaN</td>\n",
              "      <td>NaN</td>\n",
              "    </tr>\n",
              "    <tr>\n",
              "      <th>1</th>\n",
              "      <td>2019</td>\n",
              "      <td>1</td>\n",
              "      <td>1</td>\n",
              "      <td>7</td>\n",
              "      <td>1</td>\n",
              "      <td>2019-01-07</td>\n",
              "      <td>9E</td>\n",
              "      <td>20363</td>\n",
              "      <td>N8970D</td>\n",
              "      <td>3280</td>\n",
              "      <td>ATL</td>\n",
              "      <td>Atlanta, GA</td>\n",
              "      <td>GA</td>\n",
              "      <td>13</td>\n",
              "      <td>Georgia</td>\n",
              "      <td>34</td>\n",
              "      <td>CSG</td>\n",
              "      <td>Columbus, GA</td>\n",
              "      <td>GA</td>\n",
              "      <td>13</td>\n",
              "      <td>Georgia</td>\n",
              "      <td>34</td>\n",
              "      <td>1640.0</td>\n",
              "      <td>-5.0</td>\n",
              "      <td>0.0</td>\n",
              "      <td>0.0</td>\n",
              "      <td>-1.0</td>\n",
              "      <td>1600-1659</td>\n",
              "      <td>10.0</td>\n",
              "      <td>1650.0</td>\n",
              "      <td>1709.0</td>\n",
              "      <td>3.0</td>\n",
              "      <td>1712.0</td>\n",
              "      <td>-20.0</td>\n",
              "      <td>0.0</td>\n",
              "      <td>0.0</td>\n",
              "      <td>-2.0</td>\n",
              "      <td>1700-1759</td>\n",
              "      <td>0.0</td>\n",
              "      <td>NaN</td>\n",
              "      <td>0.0</td>\n",
              "      <td>19.0</td>\n",
              "      <td>1.0</td>\n",
              "      <td>83.0</td>\n",
              "      <td>1</td>\n",
              "      <td>NaN</td>\n",
              "      <td>NaN</td>\n",
              "      <td>NaN</td>\n",
              "      <td>NaN</td>\n",
              "      <td>NaN</td>\n",
              "      <td>NaN</td>\n",
              "    </tr>\n",
              "    <tr>\n",
              "      <th>2</th>\n",
              "      <td>2019</td>\n",
              "      <td>1</td>\n",
              "      <td>1</td>\n",
              "      <td>8</td>\n",
              "      <td>2</td>\n",
              "      <td>2019-01-08</td>\n",
              "      <td>9E</td>\n",
              "      <td>20363</td>\n",
              "      <td>N820AY</td>\n",
              "      <td>3280</td>\n",
              "      <td>ATL</td>\n",
              "      <td>Atlanta, GA</td>\n",
              "      <td>GA</td>\n",
              "      <td>13</td>\n",
              "      <td>Georgia</td>\n",
              "      <td>34</td>\n",
              "      <td>CSG</td>\n",
              "      <td>Columbus, GA</td>\n",
              "      <td>GA</td>\n",
              "      <td>13</td>\n",
              "      <td>Georgia</td>\n",
              "      <td>34</td>\n",
              "      <td>1640.0</td>\n",
              "      <td>-5.0</td>\n",
              "      <td>0.0</td>\n",
              "      <td>0.0</td>\n",
              "      <td>-1.0</td>\n",
              "      <td>1600-1659</td>\n",
              "      <td>18.0</td>\n",
              "      <td>1658.0</td>\n",
              "      <td>1717.0</td>\n",
              "      <td>2.0</td>\n",
              "      <td>1719.0</td>\n",
              "      <td>-13.0</td>\n",
              "      <td>0.0</td>\n",
              "      <td>0.0</td>\n",
              "      <td>-1.0</td>\n",
              "      <td>1700-1759</td>\n",
              "      <td>0.0</td>\n",
              "      <td>NaN</td>\n",
              "      <td>0.0</td>\n",
              "      <td>19.0</td>\n",
              "      <td>1.0</td>\n",
              "      <td>83.0</td>\n",
              "      <td>1</td>\n",
              "      <td>NaN</td>\n",
              "      <td>NaN</td>\n",
              "      <td>NaN</td>\n",
              "      <td>NaN</td>\n",
              "      <td>NaN</td>\n",
              "      <td>NaN</td>\n",
              "    </tr>\n",
              "    <tr>\n",
              "      <th>3</th>\n",
              "      <td>2019</td>\n",
              "      <td>1</td>\n",
              "      <td>1</td>\n",
              "      <td>9</td>\n",
              "      <td>3</td>\n",
              "      <td>2019-01-09</td>\n",
              "      <td>9E</td>\n",
              "      <td>20363</td>\n",
              "      <td>N840AY</td>\n",
              "      <td>3280</td>\n",
              "      <td>ATL</td>\n",
              "      <td>Atlanta, GA</td>\n",
              "      <td>GA</td>\n",
              "      <td>13</td>\n",
              "      <td>Georgia</td>\n",
              "      <td>34</td>\n",
              "      <td>CSG</td>\n",
              "      <td>Columbus, GA</td>\n",
              "      <td>GA</td>\n",
              "      <td>13</td>\n",
              "      <td>Georgia</td>\n",
              "      <td>34</td>\n",
              "      <td>1640.0</td>\n",
              "      <td>-5.0</td>\n",
              "      <td>0.0</td>\n",
              "      <td>0.0</td>\n",
              "      <td>-1.0</td>\n",
              "      <td>1600-1659</td>\n",
              "      <td>14.0</td>\n",
              "      <td>1654.0</td>\n",
              "      <td>1713.0</td>\n",
              "      <td>4.0</td>\n",
              "      <td>1717.0</td>\n",
              "      <td>-15.0</td>\n",
              "      <td>0.0</td>\n",
              "      <td>0.0</td>\n",
              "      <td>-1.0</td>\n",
              "      <td>1700-1759</td>\n",
              "      <td>0.0</td>\n",
              "      <td>NaN</td>\n",
              "      <td>0.0</td>\n",
              "      <td>19.0</td>\n",
              "      <td>1.0</td>\n",
              "      <td>83.0</td>\n",
              "      <td>1</td>\n",
              "      <td>NaN</td>\n",
              "      <td>NaN</td>\n",
              "      <td>NaN</td>\n",
              "      <td>NaN</td>\n",
              "      <td>NaN</td>\n",
              "      <td>NaN</td>\n",
              "    </tr>\n",
              "    <tr>\n",
              "      <th>4</th>\n",
              "      <td>2019</td>\n",
              "      <td>1</td>\n",
              "      <td>1</td>\n",
              "      <td>10</td>\n",
              "      <td>4</td>\n",
              "      <td>2019-01-10</td>\n",
              "      <td>9E</td>\n",
              "      <td>20363</td>\n",
              "      <td>N8969A</td>\n",
              "      <td>3280</td>\n",
              "      <td>ATL</td>\n",
              "      <td>Atlanta, GA</td>\n",
              "      <td>GA</td>\n",
              "      <td>13</td>\n",
              "      <td>Georgia</td>\n",
              "      <td>34</td>\n",
              "      <td>CSG</td>\n",
              "      <td>Columbus, GA</td>\n",
              "      <td>GA</td>\n",
              "      <td>13</td>\n",
              "      <td>Georgia</td>\n",
              "      <td>34</td>\n",
              "      <td>1640.0</td>\n",
              "      <td>-5.0</td>\n",
              "      <td>0.0</td>\n",
              "      <td>0.0</td>\n",
              "      <td>-1.0</td>\n",
              "      <td>1600-1659</td>\n",
              "      <td>16.0</td>\n",
              "      <td>1656.0</td>\n",
              "      <td>1717.0</td>\n",
              "      <td>4.0</td>\n",
              "      <td>1721.0</td>\n",
              "      <td>-11.0</td>\n",
              "      <td>0.0</td>\n",
              "      <td>0.0</td>\n",
              "      <td>-1.0</td>\n",
              "      <td>1700-1759</td>\n",
              "      <td>0.0</td>\n",
              "      <td>NaN</td>\n",
              "      <td>0.0</td>\n",
              "      <td>21.0</td>\n",
              "      <td>1.0</td>\n",
              "      <td>83.0</td>\n",
              "      <td>1</td>\n",
              "      <td>NaN</td>\n",
              "      <td>NaN</td>\n",
              "      <td>NaN</td>\n",
              "      <td>NaN</td>\n",
              "      <td>NaN</td>\n",
              "      <td>NaN</td>\n",
              "    </tr>\n",
              "  </tbody>\n",
              "</table>\n",
              "</div>"
            ],
            "text/plain": [
              "   YEAR  QUARTER  MONTH  ...  SECURITY_DELAY  LATE_AIRCRAFT_DELAY Unnamed: 50\n",
              "0  2019        1      1  ...             NaN                  NaN         NaN\n",
              "1  2019        1      1  ...             NaN                  NaN         NaN\n",
              "2  2019        1      1  ...             NaN                  NaN         NaN\n",
              "3  2019        1      1  ...             NaN                  NaN         NaN\n",
              "4  2019        1      1  ...             NaN                  NaN         NaN\n",
              "\n",
              "[5 rows x 51 columns]"
            ]
          },
          "metadata": {
            "tags": []
          },
          "execution_count": 8
        }
      ]
    },
    {
      "cell_type": "code",
      "metadata": {
        "id": "PaYu86p_eRAU"
      },
      "source": [
        "# 29 out of 51 columns chosen for analysis\n",
        "\n",
        "df = df[[\n",
        "    'YEAR', \n",
        "    'DAY_OF_MONTH',\n",
        "    'DAY_OF_WEEK',\n",
        "    'FL_DATE',\n",
        "    'OP_UNIQUE_CARRIER',\n",
        "    'ORIGIN', \n",
        "    'ORIGIN_WAC',\n",
        "    'DEST',\n",
        "    'DEST_WAC',\n",
        "    'DEP_TIME',\n",
        "    'DEP_DELAY',\n",
        "    'DEP_DEL15',\n",
        "    'TAXI_OUT',\n",
        "    'TAXI_IN',\n",
        "    'WHEELS_OFF',\n",
        "    'WHEELS_ON',\n",
        "    'ARR_TIME',\n",
        "    'ARR_DELAY',\n",
        "    'ARR_DEL15',\n",
        "    'CANCELLED',\n",
        "    'CANCELLATION_CODE',\n",
        "    'DIVERTED',\n",
        "    'AIR_TIME',\n",
        "    'DISTANCE',\n",
        "    'CARRIER_DELAY',\n",
        "    'WEATHER_DELAY',\n",
        "    'NAS_DELAY',\n",
        "    'SECURITY_DELAY',\n",
        "    'LATE_AIRCRAFT_DELAY' ]] "
      ],
      "execution_count": null,
      "outputs": []
    },
    {
      "cell_type": "code",
      "metadata": {
        "colab": {
          "base_uri": "https://localhost:8080/"
        },
        "id": "aA6kBmSeQU4Q",
        "outputId": "65fff604-19c2-4960-80b5-841571f45bd8"
      },
      "source": [
        "df.isna().sum()"
      ],
      "execution_count": null,
      "outputs": [
        {
          "output_type": "execute_result",
          "data": {
            "text/plain": [
              "YEAR                        0\n",
              "DAY_OF_MONTH                0\n",
              "DAY_OF_WEEK                 0\n",
              "FL_DATE                     0\n",
              "OP_UNIQUE_CARRIER           0\n",
              "ORIGIN                      0\n",
              "ORIGIN_WAC                  0\n",
              "DEST                        0\n",
              "DEST_WAC                    0\n",
              "DEP_TIME                16352\n",
              "DEP_DELAY               16355\n",
              "DEP_DEL15               16355\n",
              "TAXI_OUT                16616\n",
              "TAXI_IN                 17061\n",
              "WHEELS_OFF              16616\n",
              "WHEELS_ON               17061\n",
              "ARR_TIME                17061\n",
              "ARR_DELAY               18022\n",
              "ARR_DEL15               18022\n",
              "CANCELLED                   0\n",
              "CANCELLATION_CODE      567259\n",
              "DIVERTED                    0\n",
              "AIR_TIME                18022\n",
              "DISTANCE                    0\n",
              "CARRIER_DELAY          478763\n",
              "WEATHER_DELAY          478763\n",
              "NAS_DELAY              478763\n",
              "SECURITY_DELAY         478763\n",
              "LATE_AIRCRAFT_DELAY    478763\n",
              "dtype: int64"
            ]
          },
          "metadata": {
            "tags": []
          },
          "execution_count": 10
        }
      ]
    },
    {
      "cell_type": "markdown",
      "metadata": {
        "id": "OWPSneFEKn5w"
      },
      "source": [
        "### Since all the delay columns will be a major part of my analysis, and a major chunk of the data in these columns is missing. I will convert these missing values to 0."
      ]
    },
    {
      "cell_type": "code",
      "metadata": {
        "id": "1NJvZd88SmZd"
      },
      "source": [
        "values = {\n",
        "    'DEP_DELAY': 0, \n",
        "    'DEP_DEL15': 0, \n",
        "    'ARR_DELAY': 0, \n",
        "    'ARR_DEL15': 0, \n",
        "    'CARRIER_DELAY': 0, \n",
        "    'WEATHER_DELAY': 0, \n",
        "    'NAS_DELAY': 0,\n",
        "    'SECURITY_DELAY': 0,\n",
        "    'LATE_AIRCRAFT_DELAY': 0 }\n",
        "\n",
        "df = df.fillna(value = values)"
      ],
      "execution_count": null,
      "outputs": []
    },
    {
      "cell_type": "markdown",
      "metadata": {
        "id": "cvX4fSWLS0J0"
      },
      "source": [
        "### Replacing the missing values for Taxi in/out, Wheels on/off with the column mean values."
      ]
    },
    {
      "cell_type": "code",
      "metadata": {
        "id": "H1SJatBtS1YM"
      },
      "source": [
        "TAXIOUT_mean = df['TAXI_OUT'].mean()\n",
        "TAXIIN_mean = df['TAXI_IN'].mean()\n",
        "WHEELSOFF_mean = df['WHEELS_OFF'].mean()\n",
        "WHEELSON_mean = df['WHEELS_ON'].mean()\n",
        "\n",
        "df['TAXI_OUT'] = df['TAXI_OUT'].fillna(TAXIOUT_mean)\n",
        "df['TAXI_IN'] = df['TAXI_IN'].fillna(TAXIIN_mean)\n",
        "df['WHEELS_OFF'] = df['WHEELS_OFF'].fillna(WHEELSOFF_mean)\n",
        "df['WHEELS_ON'] = df['WHEELS_ON'].fillna(WHEELSON_mean)"
      ],
      "execution_count": null,
      "outputs": []
    },
    {
      "cell_type": "markdown",
      "metadata": {
        "id": "oe1l3ePLTPYP"
      },
      "source": [
        "### Removing the column Cancellation Code as 90% of the values are missing"
      ]
    },
    {
      "cell_type": "code",
      "metadata": {
        "id": "ViEqFa8tTR50"
      },
      "source": [
        "df = df.drop(['CANCELLATION_CODE'], axis=1)"
      ],
      "execution_count": null,
      "outputs": []
    },
    {
      "cell_type": "markdown",
      "metadata": {
        "id": "tO3FOxG8TY3m"
      },
      "source": [
        "### Now only left with Arrival, Delay and Air - Time columns. It does not make sence to relace the the missing values with 0. Thus, I will just drop them."
      ]
    },
    {
      "cell_type": "code",
      "metadata": {
        "id": "KtLro_SSTaos"
      },
      "source": [
        "df = df.dropna()\n",
        "df = df.reset_index(drop = True)"
      ],
      "execution_count": null,
      "outputs": []
    },
    {
      "cell_type": "markdown",
      "metadata": {
        "id": "XcjSDVQ1Tkmn"
      },
      "source": [
        "### Final clean dataset for testing my models on"
      ]
    },
    {
      "cell_type": "code",
      "metadata": {
        "colab": {
          "base_uri": "https://localhost:8080/"
        },
        "id": "50S7R7DnTqj7",
        "outputId": "0b331058-ac48-4260-c82b-044d3626751b"
      },
      "source": [
        "df.shape "
      ],
      "execution_count": null,
      "outputs": [
        {
          "output_type": "execute_result",
          "data": {
            "text/plain": [
              "(565963, 28)"
            ]
          },
          "metadata": {
            "tags": []
          },
          "execution_count": 15
        }
      ]
    },
    {
      "cell_type": "code",
      "metadata": {
        "colab": {
          "base_uri": "https://localhost:8080/"
        },
        "id": "IM4EMEqBT3Ul",
        "outputId": "818061af-3ab2-4618-de20-ec653b14da24"
      },
      "source": [
        "df.info()"
      ],
      "execution_count": null,
      "outputs": [
        {
          "output_type": "stream",
          "text": [
            "<class 'pandas.core.frame.DataFrame'>\n",
            "RangeIndex: 565963 entries, 0 to 565962\n",
            "Data columns (total 28 columns):\n",
            " #   Column               Non-Null Count   Dtype  \n",
            "---  ------               --------------   -----  \n",
            " 0   YEAR                 565963 non-null  int64  \n",
            " 1   DAY_OF_MONTH         565963 non-null  int64  \n",
            " 2   DAY_OF_WEEK          565963 non-null  int64  \n",
            " 3   FL_DATE              565963 non-null  object \n",
            " 4   OP_UNIQUE_CARRIER    565963 non-null  object \n",
            " 5   ORIGIN               565963 non-null  object \n",
            " 6   ORIGIN_WAC           565963 non-null  int64  \n",
            " 7   DEST                 565963 non-null  object \n",
            " 8   DEST_WAC             565963 non-null  int64  \n",
            " 9   DEP_TIME             565963 non-null  float64\n",
            " 10  DEP_DELAY            565963 non-null  float64\n",
            " 11  DEP_DEL15            565963 non-null  float64\n",
            " 12  TAXI_OUT             565963 non-null  float64\n",
            " 13  TAXI_IN              565963 non-null  float64\n",
            " 14  WHEELS_OFF           565963 non-null  float64\n",
            " 15  WHEELS_ON            565963 non-null  float64\n",
            " 16  ARR_TIME             565963 non-null  float64\n",
            " 17  ARR_DELAY            565963 non-null  float64\n",
            " 18  ARR_DEL15            565963 non-null  float64\n",
            " 19  CANCELLED            565963 non-null  float64\n",
            " 20  DIVERTED             565963 non-null  float64\n",
            " 21  AIR_TIME             565963 non-null  float64\n",
            " 22  DISTANCE             565963 non-null  float64\n",
            " 23  CARRIER_DELAY        565963 non-null  float64\n",
            " 24  WEATHER_DELAY        565963 non-null  float64\n",
            " 25  NAS_DELAY            565963 non-null  float64\n",
            " 26  SECURITY_DELAY       565963 non-null  float64\n",
            " 27  LATE_AIRCRAFT_DELAY  565963 non-null  float64\n",
            "dtypes: float64(19), int64(5), object(4)\n",
            "memory usage: 120.9+ MB\n"
          ],
          "name": "stdout"
        }
      ]
    },
    {
      "cell_type": "markdown",
      "metadata": {
        "id": "FNWI3pYVhW7d"
      },
      "source": [
        "### Saving the clean dataset to use for my analysis"
      ]
    },
    {
      "cell_type": "code",
      "metadata": {
        "id": "SDYJBNi6hjdn"
      },
      "source": [
        "df.to_csv('flights_jan2019_clean.csv', index = False)"
      ],
      "execution_count": null,
      "outputs": []
    },
    {
      "cell_type": "code",
      "metadata": {
        "id": "GsXpwuhHiNIb"
      },
      "source": [
        ""
      ],
      "execution_count": null,
      "outputs": []
    }
  ]
}