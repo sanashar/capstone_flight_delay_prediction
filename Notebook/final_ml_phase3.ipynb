{
  "nbformat": 4,
  "nbformat_minor": 0,
  "metadata": {
    "colab": {
      "name": "final_ml_phase3.ipynb",
      "provenance": [],
      "collapsed_sections": [],
      "toc_visible": true
    },
    "kernelspec": {
      "name": "python3",
      "display_name": "Python 3"
    },
    "language_info": {
      "name": "python"
    }
  },
  "cells": [
    {
      "cell_type": "code",
      "metadata": {
        "id": "CGmsIWP-vDqp"
      },
      "source": [
        "import pandas as pd\n",
        "import numpy as np\n",
        "import matplotlib.pyplot as plt "
      ],
      "execution_count": 1,
      "outputs": []
    },
    {
      "cell_type": "code",
      "metadata": {
        "id": "G40bSyEkz_Ur"
      },
      "source": [
        "from tensorflow.keras.layers import Embedding\n",
        "from sklearn.linear_model import LogisticRegression\n",
        "from sklearn.metrics import accuracy_score\n",
        "from sklearn.pipeline import Pipeline\n",
        "from sklearn import tree\n",
        "from sklearn.ensemble import RandomForestClassifier\n",
        "from sklearn.linear_model import SGDClassifier, LogisticRegression\n",
        "from sklearn.preprocessing import LabelEncoder\n",
        "from sklearn import ensemble\n",
        "import sklearn.metrics as metrics\n",
        "from keras.models import Sequential\n",
        "import seaborn as sns"
      ],
      "execution_count": 91,
      "outputs": []
    },
    {
      "cell_type": "code",
      "metadata": {
        "colab": {
          "base_uri": "https://localhost:8080/"
        },
        "id": "POpGu4CivGkA",
        "outputId": "49aa270f-cccf-4be6-e8f1-2e3141ed7f65"
      },
      "source": [
        "from google.colab import drive \n",
        "drive.mount('drive')"
      ],
      "execution_count": 3,
      "outputs": [
        {
          "output_type": "stream",
          "text": [
            "Drive already mounted at drive; to attempt to forcibly remount, call drive.mount(\"drive\", force_remount=True).\n"
          ],
          "name": "stdout"
        }
      ]
    },
    {
      "cell_type": "markdown",
      "metadata": {
        "id": "ilcyh6KDSSTO"
      },
      "source": [
        "# **Approach 1 -**\n",
        "\n",
        "##Testing and Training on the same January 2015 - 2018 concatenated data"
      ]
    },
    {
      "cell_type": "code",
      "metadata": {
        "id": "-Hv4jHJbvpxU"
      },
      "source": [
        "train_data = pd.read_csv('/content/drive/MyDrive/Clean_cap/focused_df.csv')"
      ],
      "execution_count": 4,
      "outputs": []
    },
    {
      "cell_type": "code",
      "metadata": {
        "id": "gv_GxKjLv7bF"
      },
      "source": [
        "test_data = pd.read_csv('/content/drive/MyDrive/Clean_cap/test_focused_df.csv')"
      ],
      "execution_count": 5,
      "outputs": []
    },
    {
      "cell_type": "code",
      "metadata": {
        "id": "wH9STuxOwaHN"
      },
      "source": [
        "train_data[['Year', 'Month', 'Day']] = train_data['FL_DATE'].str.split('-', expand=True)"
      ],
      "execution_count": 6,
      "outputs": []
    },
    {
      "cell_type": "code",
      "metadata": {
        "colab": {
          "base_uri": "https://localhost:8080/",
          "height": 309
        },
        "id": "7gMZD0dEXmBs",
        "outputId": "2b7d1d55-8b58-439a-f58c-8cf00e4089b5"
      },
      "source": [
        "train_data.head(5)"
      ],
      "execution_count": 7,
      "outputs": [
        {
          "output_type": "execute_result",
          "data": {
            "text/html": [
              "<div>\n",
              "<style scoped>\n",
              "    .dataframe tbody tr th:only-of-type {\n",
              "        vertical-align: middle;\n",
              "    }\n",
              "\n",
              "    .dataframe tbody tr th {\n",
              "        vertical-align: top;\n",
              "    }\n",
              "\n",
              "    .dataframe thead th {\n",
              "        text-align: right;\n",
              "    }\n",
              "</style>\n",
              "<table border=\"1\" class=\"dataframe\">\n",
              "  <thead>\n",
              "    <tr style=\"text-align: right;\">\n",
              "      <th></th>\n",
              "      <th>YEAR</th>\n",
              "      <th>DAY_OF_MONTH</th>\n",
              "      <th>DAY_OF_WEEK</th>\n",
              "      <th>FL_DATE</th>\n",
              "      <th>OP_UNIQUE_CARRIER</th>\n",
              "      <th>ORIGIN</th>\n",
              "      <th>ORIGIN_WAC</th>\n",
              "      <th>DEST</th>\n",
              "      <th>DEST_WAC</th>\n",
              "      <th>DEP_TIME</th>\n",
              "      <th>DEP_DELAY</th>\n",
              "      <th>DEP_DEL15</th>\n",
              "      <th>TAXI_OUT</th>\n",
              "      <th>TAXI_IN</th>\n",
              "      <th>WHEELS_OFF</th>\n",
              "      <th>WHEELS_ON</th>\n",
              "      <th>ARR_TIME</th>\n",
              "      <th>ARR_DELAY</th>\n",
              "      <th>ARR_DEL15</th>\n",
              "      <th>CANCELLED</th>\n",
              "      <th>DIVERTED</th>\n",
              "      <th>AIR_TIME</th>\n",
              "      <th>DISTANCE</th>\n",
              "      <th>CARRIER_DELAY</th>\n",
              "      <th>WEATHER_DELAY</th>\n",
              "      <th>NAS_DELAY</th>\n",
              "      <th>SECURITY_DELAY</th>\n",
              "      <th>LATE_AIRCRAFT_DELAY</th>\n",
              "      <th>Year</th>\n",
              "      <th>Month</th>\n",
              "      <th>Day</th>\n",
              "    </tr>\n",
              "  </thead>\n",
              "  <tbody>\n",
              "    <tr>\n",
              "      <th>0</th>\n",
              "      <td>2015</td>\n",
              "      <td>15</td>\n",
              "      <td>4</td>\n",
              "      <td>2015-01-15</td>\n",
              "      <td>AA</td>\n",
              "      <td>DFW</td>\n",
              "      <td>74</td>\n",
              "      <td>MKE</td>\n",
              "      <td>45</td>\n",
              "      <td>2032.0</td>\n",
              "      <td>32.0</td>\n",
              "      <td>1.0</td>\n",
              "      <td>13.0</td>\n",
              "      <td>5.0</td>\n",
              "      <td>2045.0</td>\n",
              "      <td>2236.0</td>\n",
              "      <td>2241.0</td>\n",
              "      <td>24.0</td>\n",
              "      <td>1.0</td>\n",
              "      <td>0.0</td>\n",
              "      <td>0.0</td>\n",
              "      <td>111.0</td>\n",
              "      <td>853.0</td>\n",
              "      <td>11.0</td>\n",
              "      <td>0.0</td>\n",
              "      <td>0.0</td>\n",
              "      <td>0.0</td>\n",
              "      <td>13.0</td>\n",
              "      <td>2015</td>\n",
              "      <td>01</td>\n",
              "      <td>15</td>\n",
              "    </tr>\n",
              "    <tr>\n",
              "      <th>1</th>\n",
              "      <td>2015</td>\n",
              "      <td>16</td>\n",
              "      <td>5</td>\n",
              "      <td>2015-01-16</td>\n",
              "      <td>AA</td>\n",
              "      <td>DFW</td>\n",
              "      <td>74</td>\n",
              "      <td>MKE</td>\n",
              "      <td>45</td>\n",
              "      <td>2044.0</td>\n",
              "      <td>44.0</td>\n",
              "      <td>1.0</td>\n",
              "      <td>12.0</td>\n",
              "      <td>8.0</td>\n",
              "      <td>2056.0</td>\n",
              "      <td>2252.0</td>\n",
              "      <td>2300.0</td>\n",
              "      <td>43.0</td>\n",
              "      <td>1.0</td>\n",
              "      <td>0.0</td>\n",
              "      <td>0.0</td>\n",
              "      <td>116.0</td>\n",
              "      <td>853.0</td>\n",
              "      <td>43.0</td>\n",
              "      <td>0.0</td>\n",
              "      <td>0.0</td>\n",
              "      <td>0.0</td>\n",
              "      <td>0.0</td>\n",
              "      <td>2015</td>\n",
              "      <td>01</td>\n",
              "      <td>16</td>\n",
              "    </tr>\n",
              "    <tr>\n",
              "      <th>2</th>\n",
              "      <td>2015</td>\n",
              "      <td>17</td>\n",
              "      <td>6</td>\n",
              "      <td>2015-01-17</td>\n",
              "      <td>AA</td>\n",
              "      <td>DFW</td>\n",
              "      <td>74</td>\n",
              "      <td>MKE</td>\n",
              "      <td>45</td>\n",
              "      <td>1955.0</td>\n",
              "      <td>-5.0</td>\n",
              "      <td>0.0</td>\n",
              "      <td>15.0</td>\n",
              "      <td>7.0</td>\n",
              "      <td>2010.0</td>\n",
              "      <td>2157.0</td>\n",
              "      <td>2204.0</td>\n",
              "      <td>-13.0</td>\n",
              "      <td>0.0</td>\n",
              "      <td>0.0</td>\n",
              "      <td>0.0</td>\n",
              "      <td>107.0</td>\n",
              "      <td>853.0</td>\n",
              "      <td>0.0</td>\n",
              "      <td>0.0</td>\n",
              "      <td>0.0</td>\n",
              "      <td>0.0</td>\n",
              "      <td>0.0</td>\n",
              "      <td>2015</td>\n",
              "      <td>01</td>\n",
              "      <td>17</td>\n",
              "    </tr>\n",
              "    <tr>\n",
              "      <th>3</th>\n",
              "      <td>2015</td>\n",
              "      <td>18</td>\n",
              "      <td>7</td>\n",
              "      <td>2015-01-18</td>\n",
              "      <td>AA</td>\n",
              "      <td>DFW</td>\n",
              "      <td>74</td>\n",
              "      <td>MKE</td>\n",
              "      <td>45</td>\n",
              "      <td>1957.0</td>\n",
              "      <td>-3.0</td>\n",
              "      <td>0.0</td>\n",
              "      <td>12.0</td>\n",
              "      <td>4.0</td>\n",
              "      <td>2009.0</td>\n",
              "      <td>2205.0</td>\n",
              "      <td>2209.0</td>\n",
              "      <td>-8.0</td>\n",
              "      <td>0.0</td>\n",
              "      <td>0.0</td>\n",
              "      <td>0.0</td>\n",
              "      <td>116.0</td>\n",
              "      <td>853.0</td>\n",
              "      <td>0.0</td>\n",
              "      <td>0.0</td>\n",
              "      <td>0.0</td>\n",
              "      <td>0.0</td>\n",
              "      <td>0.0</td>\n",
              "      <td>2015</td>\n",
              "      <td>01</td>\n",
              "      <td>18</td>\n",
              "    </tr>\n",
              "    <tr>\n",
              "      <th>4</th>\n",
              "      <td>2015</td>\n",
              "      <td>19</td>\n",
              "      <td>1</td>\n",
              "      <td>2015-01-19</td>\n",
              "      <td>AA</td>\n",
              "      <td>DFW</td>\n",
              "      <td>74</td>\n",
              "      <td>MKE</td>\n",
              "      <td>45</td>\n",
              "      <td>1956.0</td>\n",
              "      <td>-4.0</td>\n",
              "      <td>0.0</td>\n",
              "      <td>12.0</td>\n",
              "      <td>8.0</td>\n",
              "      <td>2008.0</td>\n",
              "      <td>2208.0</td>\n",
              "      <td>2216.0</td>\n",
              "      <td>-1.0</td>\n",
              "      <td>0.0</td>\n",
              "      <td>0.0</td>\n",
              "      <td>0.0</td>\n",
              "      <td>120.0</td>\n",
              "      <td>853.0</td>\n",
              "      <td>0.0</td>\n",
              "      <td>0.0</td>\n",
              "      <td>0.0</td>\n",
              "      <td>0.0</td>\n",
              "      <td>0.0</td>\n",
              "      <td>2015</td>\n",
              "      <td>01</td>\n",
              "      <td>19</td>\n",
              "    </tr>\n",
              "  </tbody>\n",
              "</table>\n",
              "</div>"
            ],
            "text/plain": [
              "   YEAR  DAY_OF_MONTH  DAY_OF_WEEK  ...  Year Month Day\n",
              "0  2015            15            4  ...  2015    01  15\n",
              "1  2015            16            5  ...  2015    01  16\n",
              "2  2015            17            6  ...  2015    01  17\n",
              "3  2015            18            7  ...  2015    01  18\n",
              "4  2015            19            1  ...  2015    01  19\n",
              "\n",
              "[5 rows x 31 columns]"
            ]
          },
          "metadata": {
            "tags": []
          },
          "execution_count": 7
        }
      ]
    },
    {
      "cell_type": "markdown",
      "metadata": {
        "id": "WB17y0r5Pi3V"
      },
      "source": [
        "## Preprossing the data"
      ]
    },
    {
      "cell_type": "code",
      "metadata": {
        "id": "J4-iy8iJxRRr"
      },
      "source": [
        "test_data[['Year', 'Month', 'Day']] = test_data['FL_DATE'].str.split('-', expand=True)"
      ],
      "execution_count": 8,
      "outputs": []
    },
    {
      "cell_type": "code",
      "metadata": {
        "id": "CTFacS2lxTWf"
      },
      "source": [
        "train_data.drop(columns=['FL_DATE', 'Year'], inplace=True)"
      ],
      "execution_count": 9,
      "outputs": []
    },
    {
      "cell_type": "code",
      "metadata": {
        "id": "hGI1xYbBxWQX"
      },
      "source": [
        "test_data.drop(columns=['FL_DATE', 'Year'], inplace=True)"
      ],
      "execution_count": 10,
      "outputs": []
    },
    {
      "cell_type": "code",
      "metadata": {
        "colab": {
          "base_uri": "https://localhost:8080/"
        },
        "id": "dz2adGJJ38my",
        "outputId": "940e8452-70bb-437a-945d-fa4f462d90e2"
      },
      "source": [
        "test_data.shape"
      ],
      "execution_count": 11,
      "outputs": [
        {
          "output_type": "execute_result",
          "data": {
            "text/plain": [
              "(28005, 29)"
            ]
          },
          "metadata": {
            "tags": []
          },
          "execution_count": 11
        }
      ]
    },
    {
      "cell_type": "code",
      "metadata": {
        "colab": {
          "base_uri": "https://localhost:8080/",
          "height": 100
        },
        "id": "v-SppJv0x2l5",
        "outputId": "bd9d0e35-93df-4b78-c757-ca0e193f0945"
      },
      "source": [
        "train_data.head(1)"
      ],
      "execution_count": 12,
      "outputs": [
        {
          "output_type": "execute_result",
          "data": {
            "text/html": [
              "<div>\n",
              "<style scoped>\n",
              "    .dataframe tbody tr th:only-of-type {\n",
              "        vertical-align: middle;\n",
              "    }\n",
              "\n",
              "    .dataframe tbody tr th {\n",
              "        vertical-align: top;\n",
              "    }\n",
              "\n",
              "    .dataframe thead th {\n",
              "        text-align: right;\n",
              "    }\n",
              "</style>\n",
              "<table border=\"1\" class=\"dataframe\">\n",
              "  <thead>\n",
              "    <tr style=\"text-align: right;\">\n",
              "      <th></th>\n",
              "      <th>YEAR</th>\n",
              "      <th>DAY_OF_MONTH</th>\n",
              "      <th>DAY_OF_WEEK</th>\n",
              "      <th>OP_UNIQUE_CARRIER</th>\n",
              "      <th>ORIGIN</th>\n",
              "      <th>ORIGIN_WAC</th>\n",
              "      <th>DEST</th>\n",
              "      <th>DEST_WAC</th>\n",
              "      <th>DEP_TIME</th>\n",
              "      <th>DEP_DELAY</th>\n",
              "      <th>DEP_DEL15</th>\n",
              "      <th>TAXI_OUT</th>\n",
              "      <th>TAXI_IN</th>\n",
              "      <th>WHEELS_OFF</th>\n",
              "      <th>WHEELS_ON</th>\n",
              "      <th>ARR_TIME</th>\n",
              "      <th>ARR_DELAY</th>\n",
              "      <th>ARR_DEL15</th>\n",
              "      <th>CANCELLED</th>\n",
              "      <th>DIVERTED</th>\n",
              "      <th>AIR_TIME</th>\n",
              "      <th>DISTANCE</th>\n",
              "      <th>CARRIER_DELAY</th>\n",
              "      <th>WEATHER_DELAY</th>\n",
              "      <th>NAS_DELAY</th>\n",
              "      <th>SECURITY_DELAY</th>\n",
              "      <th>LATE_AIRCRAFT_DELAY</th>\n",
              "      <th>Month</th>\n",
              "      <th>Day</th>\n",
              "    </tr>\n",
              "  </thead>\n",
              "  <tbody>\n",
              "    <tr>\n",
              "      <th>0</th>\n",
              "      <td>2015</td>\n",
              "      <td>15</td>\n",
              "      <td>4</td>\n",
              "      <td>AA</td>\n",
              "      <td>DFW</td>\n",
              "      <td>74</td>\n",
              "      <td>MKE</td>\n",
              "      <td>45</td>\n",
              "      <td>2032.0</td>\n",
              "      <td>32.0</td>\n",
              "      <td>1.0</td>\n",
              "      <td>13.0</td>\n",
              "      <td>5.0</td>\n",
              "      <td>2045.0</td>\n",
              "      <td>2236.0</td>\n",
              "      <td>2241.0</td>\n",
              "      <td>24.0</td>\n",
              "      <td>1.0</td>\n",
              "      <td>0.0</td>\n",
              "      <td>0.0</td>\n",
              "      <td>111.0</td>\n",
              "      <td>853.0</td>\n",
              "      <td>11.0</td>\n",
              "      <td>0.0</td>\n",
              "      <td>0.0</td>\n",
              "      <td>0.0</td>\n",
              "      <td>13.0</td>\n",
              "      <td>01</td>\n",
              "      <td>15</td>\n",
              "    </tr>\n",
              "  </tbody>\n",
              "</table>\n",
              "</div>"
            ],
            "text/plain": [
              "   YEAR  DAY_OF_MONTH  DAY_OF_WEEK  ... LATE_AIRCRAFT_DELAY Month  Day\n",
              "0  2015            15            4  ...                13.0    01   15\n",
              "\n",
              "[1 rows x 29 columns]"
            ]
          },
          "metadata": {
            "tags": []
          },
          "execution_count": 12
        }
      ]
    },
    {
      "cell_type": "markdown",
      "metadata": {
        "id": "kuT-Cu2jTA9D"
      },
      "source": [
        "## Test Train Split method "
      ]
    },
    {
      "cell_type": "code",
      "metadata": {
        "id": "u1yVj3ZrzvpB"
      },
      "source": [
        "from sklearn.model_selection import train_test_split"
      ],
      "execution_count": 13,
      "outputs": []
    },
    {
      "cell_type": "code",
      "metadata": {
        "id": "XJ2ngRuX11Vl"
      },
      "source": [
        "train_data['DEP_DEL15'] = train_data['DEP_DEL15'].fillna(0)"
      ],
      "execution_count": 14,
      "outputs": []
    },
    {
      "cell_type": "code",
      "metadata": {
        "id": "JIrkPnSS2Y4a"
      },
      "source": [
        "train_data.DEP_DEL15 = train_data.DEP_DEL15.replace('None', np.nan)"
      ],
      "execution_count": 15,
      "outputs": []
    },
    {
      "cell_type": "code",
      "metadata": {
        "id": "j2r_FxED3AZ9"
      },
      "source": [
        "string_cols = ['OP_UNIQUE_CARRIER', 'ORIGIN', 'DEST']\n",
        "enc = LabelEncoder()\n",
        "\n",
        "for col in string_cols:\n",
        "    train_data[col] = train_data[col].astype('str')\n",
        "    test_data[col] = test_data[col].astype('str')\n",
        "    train_data[col] = enc.fit_transform(train_data[col])\n",
        "    test_data[col] = enc.fit_transform(test_data[col])"
      ],
      "execution_count": 16,
      "outputs": []
    },
    {
      "cell_type": "code",
      "metadata": {
        "colab": {
          "base_uri": "https://localhost:8080/",
          "height": 193
        },
        "id": "sX42Q4t0wnon",
        "outputId": "18cef9bb-a48e-4621-a804-bd16d9846c5d"
      },
      "source": [
        "train_data.head(4)"
      ],
      "execution_count": 17,
      "outputs": [
        {
          "output_type": "execute_result",
          "data": {
            "text/html": [
              "<div>\n",
              "<style scoped>\n",
              "    .dataframe tbody tr th:only-of-type {\n",
              "        vertical-align: middle;\n",
              "    }\n",
              "\n",
              "    .dataframe tbody tr th {\n",
              "        vertical-align: top;\n",
              "    }\n",
              "\n",
              "    .dataframe thead th {\n",
              "        text-align: right;\n",
              "    }\n",
              "</style>\n",
              "<table border=\"1\" class=\"dataframe\">\n",
              "  <thead>\n",
              "    <tr style=\"text-align: right;\">\n",
              "      <th></th>\n",
              "      <th>YEAR</th>\n",
              "      <th>DAY_OF_MONTH</th>\n",
              "      <th>DAY_OF_WEEK</th>\n",
              "      <th>OP_UNIQUE_CARRIER</th>\n",
              "      <th>ORIGIN</th>\n",
              "      <th>ORIGIN_WAC</th>\n",
              "      <th>DEST</th>\n",
              "      <th>DEST_WAC</th>\n",
              "      <th>DEP_TIME</th>\n",
              "      <th>DEP_DELAY</th>\n",
              "      <th>DEP_DEL15</th>\n",
              "      <th>TAXI_OUT</th>\n",
              "      <th>TAXI_IN</th>\n",
              "      <th>WHEELS_OFF</th>\n",
              "      <th>WHEELS_ON</th>\n",
              "      <th>ARR_TIME</th>\n",
              "      <th>ARR_DELAY</th>\n",
              "      <th>ARR_DEL15</th>\n",
              "      <th>CANCELLED</th>\n",
              "      <th>DIVERTED</th>\n",
              "      <th>AIR_TIME</th>\n",
              "      <th>DISTANCE</th>\n",
              "      <th>CARRIER_DELAY</th>\n",
              "      <th>WEATHER_DELAY</th>\n",
              "      <th>NAS_DELAY</th>\n",
              "      <th>SECURITY_DELAY</th>\n",
              "      <th>LATE_AIRCRAFT_DELAY</th>\n",
              "      <th>Month</th>\n",
              "      <th>Day</th>\n",
              "    </tr>\n",
              "  </thead>\n",
              "  <tbody>\n",
              "    <tr>\n",
              "      <th>0</th>\n",
              "      <td>2015</td>\n",
              "      <td>15</td>\n",
              "      <td>4</td>\n",
              "      <td>1</td>\n",
              "      <td>1</td>\n",
              "      <td>74</td>\n",
              "      <td>144</td>\n",
              "      <td>45</td>\n",
              "      <td>2032.0</td>\n",
              "      <td>32.0</td>\n",
              "      <td>1.0</td>\n",
              "      <td>13.0</td>\n",
              "      <td>5.0</td>\n",
              "      <td>2045.0</td>\n",
              "      <td>2236.0</td>\n",
              "      <td>2241.0</td>\n",
              "      <td>24.0</td>\n",
              "      <td>1.0</td>\n",
              "      <td>0.0</td>\n",
              "      <td>0.0</td>\n",
              "      <td>111.0</td>\n",
              "      <td>853.0</td>\n",
              "      <td>11.0</td>\n",
              "      <td>0.0</td>\n",
              "      <td>0.0</td>\n",
              "      <td>0.0</td>\n",
              "      <td>13.0</td>\n",
              "      <td>01</td>\n",
              "      <td>15</td>\n",
              "    </tr>\n",
              "    <tr>\n",
              "      <th>1</th>\n",
              "      <td>2015</td>\n",
              "      <td>16</td>\n",
              "      <td>5</td>\n",
              "      <td>1</td>\n",
              "      <td>1</td>\n",
              "      <td>74</td>\n",
              "      <td>144</td>\n",
              "      <td>45</td>\n",
              "      <td>2044.0</td>\n",
              "      <td>44.0</td>\n",
              "      <td>1.0</td>\n",
              "      <td>12.0</td>\n",
              "      <td>8.0</td>\n",
              "      <td>2056.0</td>\n",
              "      <td>2252.0</td>\n",
              "      <td>2300.0</td>\n",
              "      <td>43.0</td>\n",
              "      <td>1.0</td>\n",
              "      <td>0.0</td>\n",
              "      <td>0.0</td>\n",
              "      <td>116.0</td>\n",
              "      <td>853.0</td>\n",
              "      <td>43.0</td>\n",
              "      <td>0.0</td>\n",
              "      <td>0.0</td>\n",
              "      <td>0.0</td>\n",
              "      <td>0.0</td>\n",
              "      <td>01</td>\n",
              "      <td>16</td>\n",
              "    </tr>\n",
              "    <tr>\n",
              "      <th>2</th>\n",
              "      <td>2015</td>\n",
              "      <td>17</td>\n",
              "      <td>6</td>\n",
              "      <td>1</td>\n",
              "      <td>1</td>\n",
              "      <td>74</td>\n",
              "      <td>144</td>\n",
              "      <td>45</td>\n",
              "      <td>1955.0</td>\n",
              "      <td>-5.0</td>\n",
              "      <td>0.0</td>\n",
              "      <td>15.0</td>\n",
              "      <td>7.0</td>\n",
              "      <td>2010.0</td>\n",
              "      <td>2157.0</td>\n",
              "      <td>2204.0</td>\n",
              "      <td>-13.0</td>\n",
              "      <td>0.0</td>\n",
              "      <td>0.0</td>\n",
              "      <td>0.0</td>\n",
              "      <td>107.0</td>\n",
              "      <td>853.0</td>\n",
              "      <td>0.0</td>\n",
              "      <td>0.0</td>\n",
              "      <td>0.0</td>\n",
              "      <td>0.0</td>\n",
              "      <td>0.0</td>\n",
              "      <td>01</td>\n",
              "      <td>17</td>\n",
              "    </tr>\n",
              "    <tr>\n",
              "      <th>3</th>\n",
              "      <td>2015</td>\n",
              "      <td>18</td>\n",
              "      <td>7</td>\n",
              "      <td>1</td>\n",
              "      <td>1</td>\n",
              "      <td>74</td>\n",
              "      <td>144</td>\n",
              "      <td>45</td>\n",
              "      <td>1957.0</td>\n",
              "      <td>-3.0</td>\n",
              "      <td>0.0</td>\n",
              "      <td>12.0</td>\n",
              "      <td>4.0</td>\n",
              "      <td>2009.0</td>\n",
              "      <td>2205.0</td>\n",
              "      <td>2209.0</td>\n",
              "      <td>-8.0</td>\n",
              "      <td>0.0</td>\n",
              "      <td>0.0</td>\n",
              "      <td>0.0</td>\n",
              "      <td>116.0</td>\n",
              "      <td>853.0</td>\n",
              "      <td>0.0</td>\n",
              "      <td>0.0</td>\n",
              "      <td>0.0</td>\n",
              "      <td>0.0</td>\n",
              "      <td>0.0</td>\n",
              "      <td>01</td>\n",
              "      <td>18</td>\n",
              "    </tr>\n",
              "  </tbody>\n",
              "</table>\n",
              "</div>"
            ],
            "text/plain": [
              "   YEAR  DAY_OF_MONTH  DAY_OF_WEEK  ...  LATE_AIRCRAFT_DELAY  Month  Day\n",
              "0  2015            15            4  ...                 13.0     01   15\n",
              "1  2015            16            5  ...                  0.0     01   16\n",
              "2  2015            17            6  ...                  0.0     01   17\n",
              "3  2015            18            7  ...                  0.0     01   18\n",
              "\n",
              "[4 rows x 29 columns]"
            ]
          },
          "metadata": {
            "tags": []
          },
          "execution_count": 17
        }
      ]
    },
    {
      "cell_type": "code",
      "metadata": {
        "colab": {
          "base_uri": "https://localhost:8080/",
          "height": 193
        },
        "id": "UtFUI4I3wrU8",
        "outputId": "61f7a44b-9554-4569-d414-21299ef01f50"
      },
      "source": [
        "test_data.head(4)"
      ],
      "execution_count": 18,
      "outputs": [
        {
          "output_type": "execute_result",
          "data": {
            "text/html": [
              "<div>\n",
              "<style scoped>\n",
              "    .dataframe tbody tr th:only-of-type {\n",
              "        vertical-align: middle;\n",
              "    }\n",
              "\n",
              "    .dataframe tbody tr th {\n",
              "        vertical-align: top;\n",
              "    }\n",
              "\n",
              "    .dataframe thead th {\n",
              "        text-align: right;\n",
              "    }\n",
              "</style>\n",
              "<table border=\"1\" class=\"dataframe\">\n",
              "  <thead>\n",
              "    <tr style=\"text-align: right;\">\n",
              "      <th></th>\n",
              "      <th>YEAR</th>\n",
              "      <th>DAY_OF_MONTH</th>\n",
              "      <th>DAY_OF_WEEK</th>\n",
              "      <th>OP_UNIQUE_CARRIER</th>\n",
              "      <th>ORIGIN</th>\n",
              "      <th>ORIGIN_WAC</th>\n",
              "      <th>DEST</th>\n",
              "      <th>DEST_WAC</th>\n",
              "      <th>DEP_TIME</th>\n",
              "      <th>DEP_DELAY</th>\n",
              "      <th>DEP_DEL15</th>\n",
              "      <th>TAXI_OUT</th>\n",
              "      <th>TAXI_IN</th>\n",
              "      <th>WHEELS_OFF</th>\n",
              "      <th>WHEELS_ON</th>\n",
              "      <th>ARR_TIME</th>\n",
              "      <th>ARR_DELAY</th>\n",
              "      <th>ARR_DEL15</th>\n",
              "      <th>CANCELLED</th>\n",
              "      <th>DIVERTED</th>\n",
              "      <th>AIR_TIME</th>\n",
              "      <th>DISTANCE</th>\n",
              "      <th>CARRIER_DELAY</th>\n",
              "      <th>WEATHER_DELAY</th>\n",
              "      <th>NAS_DELAY</th>\n",
              "      <th>SECURITY_DELAY</th>\n",
              "      <th>LATE_AIRCRAFT_DELAY</th>\n",
              "      <th>Month</th>\n",
              "      <th>Day</th>\n",
              "    </tr>\n",
              "  </thead>\n",
              "  <tbody>\n",
              "    <tr>\n",
              "      <th>0</th>\n",
              "      <td>2019</td>\n",
              "      <td>25</td>\n",
              "      <td>5</td>\n",
              "      <td>1</td>\n",
              "      <td>0</td>\n",
              "      <td>34</td>\n",
              "      <td>60</td>\n",
              "      <td>36</td>\n",
              "      <td>1057.0</td>\n",
              "      <td>-2.0</td>\n",
              "      <td>0.0</td>\n",
              "      <td>55.0</td>\n",
              "      <td>6.0</td>\n",
              "      <td>1152.0</td>\n",
              "      <td>1238.0</td>\n",
              "      <td>1244.0</td>\n",
              "      <td>30.0</td>\n",
              "      <td>1.0</td>\n",
              "      <td>0.0</td>\n",
              "      <td>0.0</td>\n",
              "      <td>46.0</td>\n",
              "      <td>331.0</td>\n",
              "      <td>0.0</td>\n",
              "      <td>0.0</td>\n",
              "      <td>30.0</td>\n",
              "      <td>0.0</td>\n",
              "      <td>0.0</td>\n",
              "      <td>01</td>\n",
              "      <td>25</td>\n",
              "    </tr>\n",
              "    <tr>\n",
              "      <th>1</th>\n",
              "      <td>2019</td>\n",
              "      <td>25</td>\n",
              "      <td>5</td>\n",
              "      <td>1</td>\n",
              "      <td>0</td>\n",
              "      <td>34</td>\n",
              "      <td>60</td>\n",
              "      <td>36</td>\n",
              "      <td>811.0</td>\n",
              "      <td>-2.0</td>\n",
              "      <td>0.0</td>\n",
              "      <td>14.0</td>\n",
              "      <td>5.0</td>\n",
              "      <td>825.0</td>\n",
              "      <td>912.0</td>\n",
              "      <td>917.0</td>\n",
              "      <td>-16.0</td>\n",
              "      <td>0.0</td>\n",
              "      <td>0.0</td>\n",
              "      <td>0.0</td>\n",
              "      <td>47.0</td>\n",
              "      <td>331.0</td>\n",
              "      <td>0.0</td>\n",
              "      <td>0.0</td>\n",
              "      <td>0.0</td>\n",
              "      <td>0.0</td>\n",
              "      <td>0.0</td>\n",
              "      <td>01</td>\n",
              "      <td>25</td>\n",
              "    </tr>\n",
              "    <tr>\n",
              "      <th>2</th>\n",
              "      <td>2019</td>\n",
              "      <td>25</td>\n",
              "      <td>5</td>\n",
              "      <td>1</td>\n",
              "      <td>0</td>\n",
              "      <td>34</td>\n",
              "      <td>48</td>\n",
              "      <td>51</td>\n",
              "      <td>1338.0</td>\n",
              "      <td>-4.0</td>\n",
              "      <td>0.0</td>\n",
              "      <td>15.0</td>\n",
              "      <td>5.0</td>\n",
              "      <td>1353.0</td>\n",
              "      <td>1332.0</td>\n",
              "      <td>1337.0</td>\n",
              "      <td>-8.0</td>\n",
              "      <td>0.0</td>\n",
              "      <td>0.0</td>\n",
              "      <td>0.0</td>\n",
              "      <td>39.0</td>\n",
              "      <td>170.0</td>\n",
              "      <td>0.0</td>\n",
              "      <td>0.0</td>\n",
              "      <td>0.0</td>\n",
              "      <td>0.0</td>\n",
              "      <td>0.0</td>\n",
              "      <td>01</td>\n",
              "      <td>25</td>\n",
              "    </tr>\n",
              "    <tr>\n",
              "      <th>3</th>\n",
              "      <td>2019</td>\n",
              "      <td>25</td>\n",
              "      <td>5</td>\n",
              "      <td>1</td>\n",
              "      <td>0</td>\n",
              "      <td>34</td>\n",
              "      <td>48</td>\n",
              "      <td>51</td>\n",
              "      <td>1803.0</td>\n",
              "      <td>17.0</td>\n",
              "      <td>1.0</td>\n",
              "      <td>19.0</td>\n",
              "      <td>5.0</td>\n",
              "      <td>1822.0</td>\n",
              "      <td>1759.0</td>\n",
              "      <td>1804.0</td>\n",
              "      <td>16.0</td>\n",
              "      <td>1.0</td>\n",
              "      <td>0.0</td>\n",
              "      <td>0.0</td>\n",
              "      <td>37.0</td>\n",
              "      <td>170.0</td>\n",
              "      <td>0.0</td>\n",
              "      <td>16.0</td>\n",
              "      <td>0.0</td>\n",
              "      <td>0.0</td>\n",
              "      <td>0.0</td>\n",
              "      <td>01</td>\n",
              "      <td>25</td>\n",
              "    </tr>\n",
              "  </tbody>\n",
              "</table>\n",
              "</div>"
            ],
            "text/plain": [
              "   YEAR  DAY_OF_MONTH  DAY_OF_WEEK  ...  LATE_AIRCRAFT_DELAY  Month  Day\n",
              "0  2019            25            5  ...                  0.0     01   25\n",
              "1  2019            25            5  ...                  0.0     01   25\n",
              "2  2019            25            5  ...                  0.0     01   25\n",
              "3  2019            25            5  ...                  0.0     01   25\n",
              "\n",
              "[4 rows x 29 columns]"
            ]
          },
          "metadata": {
            "tags": []
          },
          "execution_count": 18
        }
      ]
    },
    {
      "cell_type": "code",
      "metadata": {
        "id": "yqlB3z19xXqY"
      },
      "source": [
        "X = pd.get_dummies(train_data.drop('DEP_DEL15', axis=1), columns=['ORIGIN', 'OP_UNIQUE_CARRIER'])\n",
        "y = train_data['DEP_DEL15']\n",
        "X_train, X_test, y_train, y_test = train_test_split(X, y, test_size=0.25, random_state=1111)"
      ],
      "execution_count": 19,
      "outputs": []
    },
    {
      "cell_type": "code",
      "metadata": {
        "colab": {
          "base_uri": "https://localhost:8080/"
        },
        "id": "vO-snHLe1QS0",
        "outputId": "cb2ffd9a-d9c2-4b45-d6cd-ce6a3c6a4c60"
      },
      "source": [
        "print(X_train.shape)\n",
        "print(y_train.shape)\n",
        "print(X_test.shape)\n",
        "print(y_test.shape)"
      ],
      "execution_count": 20,
      "outputs": [
        {
          "output_type": "stream",
          "text": [
            "(208029, 46)\n",
            "(208029,)\n",
            "(69343, 46)\n",
            "(69343,)\n"
          ],
          "name": "stdout"
        }
      ]
    },
    {
      "cell_type": "markdown",
      "metadata": {
        "id": "XfB2w_OYTQdj"
      },
      "source": [
        "# Applying Random Forest  -"
      ]
    },
    {
      "cell_type": "code",
      "metadata": {
        "id": "WXf-7pAPziBl"
      },
      "source": [
        "model = RandomForestClassifier()\n",
        "\n",
        "def binary_delays(data, threshold=0.15):\n",
        "    data = data.replace(data[data['DEP_DEL15'] >= threshold], 1)\n",
        "    data = data.replace(data[data['DEP_DEL15'] <= threshold], 0)\n",
        "    return data"
      ],
      "execution_count": 21,
      "outputs": []
    },
    {
      "cell_type": "markdown",
      "metadata": {
        "id": "UOz1ZrTn-H2d"
      },
      "source": [
        "https://datascience.stackexchange.com/questions/35713/i-got-100-accuracy-on-my-test-set-is-there-something-wrong"
      ]
    },
    {
      "cell_type": "code",
      "metadata": {
        "colab": {
          "base_uri": "https://localhost:8080/"
        },
        "id": "SwRuK4EK1lTe",
        "outputId": "232f3a24-2d2f-415a-e985-5a3e5cffa83f"
      },
      "source": [
        "model.fit(X_train, y_train)\n",
        "y_pred = model.predict(X_test)\n",
        "#print('Confusion Matrix: \\n'+str(confusion_matrix(y_test, y_pred)))\n",
        "print('Accuracy Score: \\n'+str(model.score(X_test, y_test)))"
      ],
      "execution_count": 22,
      "outputs": [
        {
          "output_type": "stream",
          "text": [
            "Accuracy Score: \n",
            "1.0\n"
          ],
          "name": "stdout"
        }
      ]
    },
    {
      "cell_type": "code",
      "metadata": {
        "colab": {
          "base_uri": "https://localhost:8080/"
        },
        "id": "c8bw_TdM5phq",
        "outputId": "e0605d9b-748f-4bb3-99f9-3e3ea367fb61"
      },
      "source": [
        "forest = ensemble.RandomForestClassifier(n_estimators=200, \n",
        "                             min_samples_leaf=5, \n",
        "                             n_jobs=-1).fit(X_train, y_train)\n",
        "\n",
        "# Evaluate on larger test set\n",
        "forest_pred = forest.predict(X_test)\n",
        "forest_probs = forest.predict_proba(X_test)\n",
        "\n",
        "#Creates and print out the precision, recall, f1, and auc scores \n",
        "report_rf = metrics.precision_recall_fscore_support(list(y_test), \n",
        "                                                    list(forest_pred), \n",
        "                                                    average='binary')\n",
        "\n",
        "print(report_rf[0], \n",
        "         report_rf[1], \n",
        "         report_rf[2], \n",
        "         metrics.roc_auc_score(list(y_test.values), list(forest_probs[:, 1])))"
      ],
      "execution_count": 23,
      "outputs": [
        {
          "output_type": "stream",
          "text": [
            "1.0 1.0 1.0 1.0\n"
          ],
          "name": "stdout"
        }
      ]
    },
    {
      "cell_type": "code",
      "metadata": {
        "colab": {
          "base_uri": "https://localhost:8080/"
        },
        "id": "zrxPkdtw9QW0",
        "outputId": "32c987ea-cc48-4a16-9ffa-cd59bd1dfbf5"
      },
      "source": [
        "cm = metrics.confusion_matrix(y_test, forest_pred)\n",
        "print(\"Confusion matrix\")\n",
        "print(pd.DataFrame(cm))"
      ],
      "execution_count": 24,
      "outputs": [
        {
          "output_type": "stream",
          "text": [
            "Confusion matrix\n",
            "       0      1\n",
            "0  55225      0\n",
            "1      0  14118\n"
          ],
          "name": "stdout"
        }
      ]
    },
    {
      "cell_type": "code",
      "metadata": {
        "colab": {
          "base_uri": "https://localhost:8080/",
          "height": 391
        },
        "id": "XSFKqB6EarHl",
        "outputId": "33ba1ee9-9e2c-4479-e9f3-f53706db00bf"
      },
      "source": [
        "plt.figure(figsize=(8,6))\n",
        "sns.heatmap(cm, annot = True)"
      ],
      "execution_count": 94,
      "outputs": [
        {
          "output_type": "execute_result",
          "data": {
            "text/plain": [
              "<matplotlib.axes._subplots.AxesSubplot at 0x7fd8aeb01950>"
            ]
          },
          "metadata": {
            "tags": []
          },
          "execution_count": 94
        },
        {
          "output_type": "display_data",
          "data": {
            "image/png": "[encoded data removed]",
            "text/plain": [
              "<Figure size 576x432 with 2 Axes>"
            ]
          },
          "metadata": {
            "tags": [],
            "needs_background": "light"
          }
        }
      ]
    },
    {
      "cell_type": "markdown",
      "metadata": {
        "id": "go3GnixtTcWa"
      },
      "source": [
        "# Applying GaussianNB -"
      ]
    },
    {
      "cell_type": "code",
      "metadata": {
        "id": "T_fhgfmu4xy4"
      },
      "source": [
        "from sklearn.naive_bayes import GaussianNB\n",
        "from sklearn import ensemble, tree, metrics"
      ],
      "execution_count": 97,
      "outputs": []
    },
    {
      "cell_type": "code",
      "metadata": {
        "id": "YvB4pnPm2vMw"
      },
      "source": [
        "naive = GaussianNB().fit(X_train, y_train)\n",
        "naive_pred = naive.predict(X_test)\n",
        "naive_probs = naive.predict_proba(X_test)"
      ],
      "execution_count": 98,
      "outputs": []
    },
    {
      "cell_type": "code",
      "metadata": {
        "id": "y6qeebWs4u1V"
      },
      "source": [
        "report_rf = metrics.precision_recall_fscore_support(list(y_test), \n",
        "                                                    list(naive_pred), \n",
        "                                                    average='binary')"
      ],
      "execution_count": 99,
      "outputs": []
    },
    {
      "cell_type": "code",
      "metadata": {
        "colab": {
          "base_uri": "https://localhost:8080/"
        },
        "id": "D_eBmuDZ5MeP",
        "outputId": "6dc512ee-c189-48e3-88ef-de623d237783"
      },
      "source": [
        "print   (report_rf[0], \n",
        "         report_rf[1], \n",
        "         report_rf[2], \n",
        "         metrics.roc_auc_score(list(y_test.values), list(naive_probs[:,1])))"
      ],
      "execution_count": 100,
      "outputs": [
        {
          "output_type": "stream",
          "text": [
            "0.8674374130737135 0.8090643748986541 0.8372346673378639 0.9830072641275375\n"
          ],
          "name": "stdout"
        }
      ]
    },
    {
      "cell_type": "code",
      "metadata": {
        "colab": {
          "base_uri": "https://localhost:8080/"
        },
        "id": "ZS9xlj7a9a6u",
        "outputId": "b90a0a63-43ce-45b2-90a9-0d984251071b"
      },
      "source": [
        "cm = metrics.confusion_matrix(y_test, naive_pred)\n",
        "print(\"Confusion matrix\")\n",
        "print(pd.DataFrame(cm))"
      ],
      "execution_count": 101,
      "outputs": [
        {
          "output_type": "stream",
          "text": [
            "Confusion matrix\n",
            "       0     1\n",
            "0  47217  1525\n",
            "1   2355  9979\n"
          ],
          "name": "stdout"
        }
      ]
    },
    {
      "cell_type": "code",
      "metadata": {
        "colab": {
          "base_uri": "https://localhost:8080/",
          "height": 391
        },
        "id": "MsZqVsFJbn8J",
        "outputId": "ec3c9e6c-d602-4645-c9bb-6dd050197bc1"
      },
      "source": [
        "plt.figure(figsize=(8,6))\n",
        "sns.heatmap(cm, annot = True)"
      ],
      "execution_count": 102,
      "outputs": [
        {
          "output_type": "execute_result",
          "data": {
            "text/plain": [
              "<matplotlib.axes._subplots.AxesSubplot at 0x7fd8af8beb90>"
            ]
          },
          "metadata": {
            "tags": []
          },
          "execution_count": 102
        },
        {
          "output_type": "display_data",
          "data": {
            "image/png": "[encoded data removed]",
            "text/plain": [
              "<Figure size 576x432 with 2 Axes>"
            ]
          },
          "metadata": {
            "tags": [],
            "needs_background": "light"
          }
        }
      ]
    },
    {
      "cell_type": "markdown",
      "metadata": {
        "id": "bu4Zl3N5UPh9"
      },
      "source": [
        "# Applying Logistic Regression -"
      ]
    },
    {
      "cell_type": "code",
      "metadata": {
        "colab": {
          "base_uri": "https://localhost:8080/"
        },
        "id": "XMQhGR3W7ThD",
        "outputId": "62e2beb9-688f-4b3c-f511-8fb5e09abce5"
      },
      "source": [
        "model_logistic = LogisticRegression()\n",
        "model_logistic.fit(X_train, y_train)"
      ],
      "execution_count": 103,
      "outputs": [
        {
          "output_type": "stream",
          "text": [
            "/usr/local/lib/python3.7/dist-packages/sklearn/linear_model/_logistic.py:940: ConvergenceWarning: lbfgs failed to converge (status=1):\n",
            "STOP: TOTAL NO. of ITERATIONS REACHED LIMIT.\n",
            "\n",
            "Increase the number of iterations (max_iter) or scale the data as shown in:\n",
            "    https://scikit-learn.org/stable/modules/preprocessing.html\n",
            "Please also refer to the documentation for alternative solver options:\n",
            "    https://scikit-learn.org/stable/modules/linear_model.html#logistic-regression\n",
            "  extra_warning_msg=_LOGISTIC_SOLVER_CONVERGENCE_MSG)\n"
          ],
          "name": "stderr"
        },
        {
          "output_type": "execute_result",
          "data": {
            "text/plain": [
              "LogisticRegression(C=1.0, class_weight=None, dual=False, fit_intercept=True,\n",
              "                   intercept_scaling=1, l1_ratio=None, max_iter=100,\n",
              "                   multi_class='auto', n_jobs=None, penalty='l2',\n",
              "                   random_state=None, solver='lbfgs', tol=0.0001, verbose=0,\n",
              "                   warm_start=False)"
            ]
          },
          "metadata": {
            "tags": []
          },
          "execution_count": 103
        }
      ]
    },
    {
      "cell_type": "code",
      "metadata": {
        "id": "8A7Malto8cmk"
      },
      "source": [
        "prediction_test = model_logistic.predict(X_test)"
      ],
      "execution_count": 104,
      "outputs": []
    },
    {
      "cell_type": "code",
      "metadata": {
        "id": "sIRFOqID8fzg"
      },
      "source": [
        "accuracy_logistic = accuracy_score(prediction_test, y_test)*100"
      ],
      "execution_count": 105,
      "outputs": []
    },
    {
      "cell_type": "code",
      "metadata": {
        "colab": {
          "base_uri": "https://localhost:8080/"
        },
        "id": "K1qmR5w08i2Q",
        "outputId": "0d84e22b-10d6-4c08-fd70-2d17b465b6cb"
      },
      "source": [
        "accuracy_logistic"
      ],
      "execution_count": 106,
      "outputs": [
        {
          "output_type": "execute_result",
          "data": {
            "text/plain": [
              "98.92265374287773"
            ]
          },
          "metadata": {
            "tags": []
          },
          "execution_count": 106
        }
      ]
    },
    {
      "cell_type": "code",
      "metadata": {
        "colab": {
          "base_uri": "https://localhost:8080/"
        },
        "id": "M6l4Hoc29tYE",
        "outputId": "cd5f9644-aa44-4514-a921-2e8ea7f18e40"
      },
      "source": [
        "cm = metrics.confusion_matrix(y_test, prediction_test)\n",
        "print(\"Confusion matrix\")\n",
        "print(pd.DataFrame(cm))"
      ],
      "execution_count": 107,
      "outputs": [
        {
          "output_type": "stream",
          "text": [
            "Confusion matrix\n",
            "       0      1\n",
            "0  48441    301\n",
            "1    357  11977\n"
          ],
          "name": "stdout"
        }
      ]
    },
    {
      "cell_type": "code",
      "metadata": {
        "colab": {
          "base_uri": "https://localhost:8080/",
          "height": 391
        },
        "id": "h3Y1QTVlcDeN",
        "outputId": "db3c7484-f3dc-4230-9cbe-558aaa030c0a"
      },
      "source": [
        "plt.figure(figsize=(8,6))\n",
        "sns.heatmap(cm, annot = True)"
      ],
      "execution_count": 108,
      "outputs": [
        {
          "output_type": "execute_result",
          "data": {
            "text/plain": [
              "<matplotlib.axes._subplots.AxesSubplot at 0x7fd8af7b0650>"
            ]
          },
          "metadata": {
            "tags": []
          },
          "execution_count": 108
        },
        {
          "output_type": "display_data",
          "data": {
            "image/png": "[encoded data removed]",
            "text/plain": [
              "<Figure size 576x432 with 2 Axes>"
            ]
          },
          "metadata": {
            "tags": [],
            "needs_background": "light"
          }
        }
      ]
    },
    {
      "cell_type": "markdown",
      "metadata": {
        "id": "EkSB7Y_sXcMO"
      },
      "source": [
        "# **Approach 1 Result -**\n",
        "\n",
        "### My models are giving the following accuracy in predicting flight delays on the same testing and training data -\n",
        "\n",
        "## Logistic Regression - 99.007\n",
        "\n",
        "## GaussianNB - \n",
        "\n",
        "accuracy - 0.97\n",
        "\n",
        "precison - 0.85\n",
        "\n",
        "recall - 0.81\n",
        "\n",
        "f1 - 0.83\n",
        "\n",
        "## Random Forest - \n",
        "\n",
        "accuracy - 1.0\n",
        "\n",
        "precison - 0.85\n",
        "\n",
        "recall - 0.81\n",
        "\n",
        "f1 - 0.83"
      ]
    },
    {
      "cell_type": "markdown",
      "metadata": {
        "id": "4eAA2UMdAK5J"
      },
      "source": [
        "# **Approach 2 -**\n",
        "\n",
        "## Taking training and testing data separately, i.e. training on January 2015 - 2018 data and testing on January 2019 data"
      ]
    },
    {
      "cell_type": "markdown",
      "metadata": {
        "id": "S-dsD49J-v1M"
      },
      "source": [
        "https://www.quora.com/Can-I-train-a-neural-network-with-multiple-datasets-Also-can-I-save-a-trained-model-and-use-it-later"
      ]
    },
    {
      "cell_type": "markdown",
      "metadata": {
        "id": "d0OOTnsJU3X-"
      },
      "source": [
        "# Applying Logistic Regression -"
      ]
    },
    {
      "cell_type": "code",
      "metadata": {
        "colab": {
          "base_uri": "https://localhost:8080/"
        },
        "id": "99pelw4G8kAj",
        "outputId": "bf4fae0a-fe16-4e49-af6b-e2469a80da10"
      },
      "source": [
        "model_logistic.fit(train_data[['OP_UNIQUE_CARRIER', 'ORIGIN', 'DEST']], train_data['DEP_DEL15'])"
      ],
      "execution_count": 35,
      "outputs": [
        {
          "output_type": "execute_result",
          "data": {
            "text/plain": [
              "LogisticRegression(C=1.0, class_weight=None, dual=False, fit_intercept=True,\n",
              "                   intercept_scaling=1, l1_ratio=None, max_iter=100,\n",
              "                   multi_class='auto', n_jobs=None, penalty='l2',\n",
              "                   random_state=None, solver='lbfgs', tol=0.0001, verbose=0,\n",
              "                   warm_start=False)"
            ]
          },
          "metadata": {
            "tags": []
          },
          "execution_count": 35
        }
      ]
    },
    {
      "cell_type": "code",
      "metadata": {
        "id": "JqGmiDVH_O4U"
      },
      "source": [
        "pred_log = model_logistic.predict(test_data[['OP_UNIQUE_CARRIER', 'ORIGIN', 'DEST']])"
      ],
      "execution_count": 36,
      "outputs": []
    },
    {
      "cell_type": "code",
      "metadata": {
        "colab": {
          "base_uri": "https://localhost:8080/"
        },
        "id": "nYrCbxh__eKA",
        "outputId": "f8ed230f-1ee4-42d9-c81f-896a7c44fb59"
      },
      "source": [
        "print(accuracy_score(pred_log, test_data['DEP_DEL15']))"
      ],
      "execution_count": 37,
      "outputs": [
        {
          "output_type": "stream",
          "text": [
            "0.8337439742903053\n"
          ],
          "name": "stdout"
        }
      ]
    },
    {
      "cell_type": "markdown",
      "metadata": {
        "id": "pYYsIi7AVAbS"
      },
      "source": [
        "# Applying GaussianNB -"
      ]
    },
    {
      "cell_type": "code",
      "metadata": {
        "id": "mrDkrQhVDmfP"
      },
      "source": [
        "naive = GaussianNB().fit(train_data[['OP_UNIQUE_CARRIER', 'ORIGIN', 'DEST']], train_data['DEP_DEL15'])\n",
        "naive_pred = naive.predict(test_data[['OP_UNIQUE_CARRIER', 'ORIGIN', 'DEST']])\n",
        "naive_probs = naive.predict_proba(test_data[['OP_UNIQUE_CARRIER', 'ORIGIN', 'DEST']])"
      ],
      "execution_count": 38,
      "outputs": []
    },
    {
      "cell_type": "code",
      "metadata": {
        "colab": {
          "base_uri": "https://localhost:8080/"
        },
        "id": "xlJTvcgyDmiI",
        "outputId": "e70c1587-139d-45af-d0fc-04a86a377c17"
      },
      "source": [
        "print(accuracy_score(naive_pred, test_data['DEP_DEL15']))"
      ],
      "execution_count": 39,
      "outputs": [
        {
          "output_type": "stream",
          "text": [
            "0.8337439742903053\n"
          ],
          "name": "stdout"
        }
      ]
    },
    {
      "cell_type": "markdown",
      "metadata": {
        "id": "LUxdcgAHVGj6"
      },
      "source": [
        "# Applying Random Forest -"
      ]
    },
    {
      "cell_type": "code",
      "metadata": {
        "id": "BWFaK6mmDmko"
      },
      "source": [
        "model = RandomForestClassifier()"
      ],
      "execution_count": 40,
      "outputs": []
    },
    {
      "cell_type": "code",
      "metadata": {
        "colab": {
          "base_uri": "https://localhost:8080/"
        },
        "id": "o9-vVY32DmoN",
        "outputId": "8eba53ec-d39d-48ff-f291-7845a6cb5ab6"
      },
      "source": [
        "\n",
        "model.fit(train_data[['OP_UNIQUE_CARRIER', 'ORIGIN', 'DEST']], train_data['DEP_DEL15'])\n",
        "y_pred = model.predict(test_data[['OP_UNIQUE_CARRIER', 'ORIGIN', 'DEST']])\n",
        "print(accuracy_score(y_pred, test_data['DEP_DEL15']))"
      ],
      "execution_count": 41,
      "outputs": [
        {
          "output_type": "stream",
          "text": [
            "0.7791108730583824\n"
          ],
          "name": "stdout"
        }
      ]
    },
    {
      "cell_type": "markdown",
      "metadata": {
        "id": "5hV9B9kjV0w7"
      },
      "source": [
        "# Applying Decision Tree -"
      ]
    },
    {
      "cell_type": "code",
      "metadata": {
        "id": "UCTavtxPKRC4"
      },
      "source": [
        "tree_model = tree.DecisionTreeClassifier()\n",
        "tree_model.fit(train_data[['OP_UNIQUE_CARRIER', 'ORIGIN', 'DEST']], train_data['DEP_DEL15'])\n",
        "tree_pred = tree_model.predict(test_data[['OP_UNIQUE_CARRIER', 'ORIGIN', 'DEST']])"
      ],
      "execution_count": 42,
      "outputs": []
    },
    {
      "cell_type": "code",
      "metadata": {
        "colab": {
          "base_uri": "https://localhost:8080/"
        },
        "id": "xncFJayLK_96",
        "outputId": "c71ad80b-459e-4b9c-fa12-9e7a22182823"
      },
      "source": [
        "accuracy_score(tree_pred, test_data['DEP_DEL15'])"
      ],
      "execution_count": 43,
      "outputs": [
        {
          "output_type": "execute_result",
          "data": {
            "text/plain": [
              "0.7890376718443135"
            ]
          },
          "metadata": {
            "tags": []
          },
          "execution_count": 43
        }
      ]
    },
    {
      "cell_type": "markdown",
      "metadata": {
        "id": "W8MTPwxvV_hE"
      },
      "source": [
        "# **Approach 2 Result -**\n",
        "\n",
        "## My models are giving the following accuracy in predicting flight delays on different testing and training data -\n",
        "\n",
        "Logistic Regression - 0.83\n",
        "\n",
        "GaussianNB - 0.83\n",
        "\n",
        "Random Forest - 0.75\n",
        "\n",
        "Decision Tree - 0.78\n"
      ]
    },
    {
      "cell_type": "markdown",
      "metadata": {
        "id": "WinsyfD3Z_DF"
      },
      "source": [
        "# **Approach 3 -**\n",
        "\n",
        "## Focusing the test data on top 3 airlines and applying Logistic Regression "
      ]
    },
    {
      "cell_type": "code",
      "metadata": {
        "id": "Xb5Dxj-WSSAP"
      },
      "source": [
        "test_WN = pd.read_csv('/content/drive/MyDrive/Clean_cap/test_WN.csv')"
      ],
      "execution_count": 44,
      "outputs": []
    },
    {
      "cell_type": "code",
      "metadata": {
        "id": "IVx7rPHrTNKZ"
      },
      "source": [
        "test_DL = pd.read_csv('/content/drive/MyDrive/Clean_cap/test_DL.csv')"
      ],
      "execution_count": 45,
      "outputs": []
    },
    {
      "cell_type": "code",
      "metadata": {
        "id": "htYbrE5BTNFu"
      },
      "source": [
        "test_OO = pd.read_csv('/content/drive/MyDrive/Clean_cap/test_OO.csv')"
      ],
      "execution_count": 46,
      "outputs": []
    },
    {
      "cell_type": "markdown",
      "metadata": {
        "id": "zNGPSZRybGGA"
      },
      "source": [
        "## Prepping the data"
      ]
    },
    {
      "cell_type": "code",
      "metadata": {
        "id": "Bbchgg03PlDy"
      },
      "source": [
        "test_WN[['Year', 'Month', 'Day']] = test_WN['FL_DATE'].str.split('-', expand=True)\n",
        "test_DL[['Year', 'Month', 'Day']] = test_DL['FL_DATE'].str.split('-', expand=True)\n",
        "test_OO[['Year', 'Month', 'Day']] = test_OO['FL_DATE'].str.split('-', expand=True)"
      ],
      "execution_count": 47,
      "outputs": []
    },
    {
      "cell_type": "code",
      "metadata": {
        "id": "23eaxFBRPxT8"
      },
      "source": [
        "test_WN.drop(columns=['FL_DATE', 'Year'], inplace=True)\n",
        "test_DL.drop(columns=['FL_DATE', 'Year'], inplace=True)\n",
        "test_OO.drop(columns=['FL_DATE', 'Year'], inplace=True)"
      ],
      "execution_count": 48,
      "outputs": []
    },
    {
      "cell_type": "code",
      "metadata": {
        "id": "DAPuUiDqQQrU"
      },
      "source": [
        "for col in string_cols:\n",
        "    test_WN[col] = test_WN[col].astype('str')\n",
        "    test_WN[col] = enc.fit_transform(test_WN[col])\n",
        "    test_DL[col] = test_DL[col].astype('str')\n",
        "    test_DL[col] = enc.fit_transform(test_DL[col])\n",
        "    test_OO[col] = test_OO[col].astype('str')\n",
        "    test_OO[col] = enc.fit_transform(test_OO[col])"
      ],
      "execution_count": 49,
      "outputs": []
    },
    {
      "cell_type": "code",
      "metadata": {
        "colab": {
          "base_uri": "https://localhost:8080/"
        },
        "id": "eURSvl7HRDHp",
        "outputId": "758a97f1-9053-4c77-aac3-6866064319b9"
      },
      "source": [
        "test_DL.columns"
      ],
      "execution_count": 50,
      "outputs": [
        {
          "output_type": "execute_result",
          "data": {
            "text/plain": [
              "Index(['YEAR', 'DAY_OF_MONTH', 'DAY_OF_WEEK', 'OP_UNIQUE_CARRIER', 'ORIGIN',\n",
              "       'ORIGIN_WAC', 'DEST', 'DEST_WAC', 'DEP_TIME', 'DEP_DELAY', 'DEP_DEL15',\n",
              "       'TAXI_OUT', 'TAXI_IN', 'WHEELS_OFF', 'WHEELS_ON', 'ARR_TIME',\n",
              "       'ARR_DELAY', 'ARR_DEL15', 'CANCELLED', 'DIVERTED', 'AIR_TIME',\n",
              "       'DISTANCE', 'CARRIER_DELAY', 'WEATHER_DELAY', 'NAS_DELAY',\n",
              "       'SECURITY_DELAY', 'LATE_AIRCRAFT_DELAY', 'Month', 'Day'],\n",
              "      dtype='object')"
            ]
          },
          "metadata": {
            "tags": []
          },
          "execution_count": 50
        }
      ]
    },
    {
      "cell_type": "markdown",
      "metadata": {
        "id": "ynYPTsCrbLBP"
      },
      "source": [
        "## **Predicting the logistic regression accury of flight delays -**"
      ]
    },
    {
      "cell_type": "markdown",
      "metadata": {
        "id": "N0MoWZ0obWts"
      },
      "source": [
        "# **1. Southwest Airline -**"
      ]
    },
    {
      "cell_type": "code",
      "metadata": {
        "id": "gU0qRJXqSR22"
      },
      "source": [
        "prediction_test_WN = model_logistic.predict(test_WN[['OP_UNIQUE_CARRIER', 'ORIGIN', 'DEST']])"
      ],
      "execution_count": 51,
      "outputs": []
    },
    {
      "cell_type": "code",
      "metadata": {
        "id": "g3223O6DTY68"
      },
      "source": [
        "accuracy_logistic_WN = accuracy_score(prediction_test_WN, test_WN['DEP_DEL15'])*100"
      ],
      "execution_count": 52,
      "outputs": []
    },
    {
      "cell_type": "code",
      "metadata": {
        "colab": {
          "base_uri": "https://localhost:8080/"
        },
        "id": "rqBfZoqPVjm2",
        "outputId": "149a668b-cca7-47ff-9643-1476aa294f71"
      },
      "source": [
        "accuracy_logistic_WN"
      ],
      "execution_count": 53,
      "outputs": [
        {
          "output_type": "execute_result",
          "data": {
            "text/plain": [
              "80.80603073354595"
            ]
          },
          "metadata": {
            "tags": []
          },
          "execution_count": 53
        }
      ]
    },
    {
      "cell_type": "markdown",
      "metadata": {
        "id": "SxZZ7Hnfbk0s"
      },
      "source": [
        "# **2. Delta Airline -**"
      ]
    },
    {
      "cell_type": "code",
      "metadata": {
        "colab": {
          "base_uri": "https://localhost:8080/"
        },
        "id": "_EE0ReqZVobp",
        "outputId": "9bd798f2-68a4-4e12-cb34-420d4f3fb3c6"
      },
      "source": [
        "prediction_test_DL = model_logistic.predict(test_DL[['OP_UNIQUE_CARRIER', 'ORIGIN', 'DEST']])\n",
        "accuracy_logistic_DL = accuracy_score(prediction_test_DL, test_DL['DEP_DEL15'])*100\n",
        "accuracy_logistic_DL"
      ],
      "execution_count": 54,
      "outputs": [
        {
          "output_type": "execute_result",
          "data": {
            "text/plain": [
              "87.73392901464383"
            ]
          },
          "metadata": {
            "tags": []
          },
          "execution_count": 54
        }
      ]
    },
    {
      "cell_type": "markdown",
      "metadata": {
        "id": "JIxaCJiWb0-Z"
      },
      "source": [
        "# **3. SkyWest Airline -**"
      ]
    },
    {
      "cell_type": "code",
      "metadata": {
        "colab": {
          "base_uri": "https://localhost:8080/"
        },
        "id": "UfUcgwfSVzat",
        "outputId": "62e27789-2cf1-43cc-a24f-797120752230"
      },
      "source": [
        "prediction_test_OO = model_logistic.predict(test_OO[['OP_UNIQUE_CARRIER', 'ORIGIN', 'DEST']])\n",
        "accuracy_logistic_OO = accuracy_score(prediction_test_OO, test_OO['DEP_DEL15'])*100\n",
        "accuracy_logistic_OO"
      ],
      "execution_count": 55,
      "outputs": [
        {
          "output_type": "execute_result",
          "data": {
            "text/plain": [
              "72.20101781170484"
            ]
          },
          "metadata": {
            "tags": []
          },
          "execution_count": 55
        }
      ]
    },
    {
      "cell_type": "markdown",
      "metadata": {
        "id": "AsdN5go_cNa-"
      },
      "source": [
        "# **Approach 3 Result -**\n",
        "\n",
        "## Logistic Accuracy for predicting top 3 airline delays on different testing and training data -\n",
        "\n",
        "Southwest Airline - 80.80\n",
        "\n",
        "Delta Airline - 87.73\n",
        "\n",
        "SkyWest Airline - 72.20\n",
        "\n"
      ]
    },
    {
      "cell_type": "markdown",
      "metadata": {
        "id": "aDFYggNWcw1Z"
      },
      "source": [
        "# **Approach 4 -**\n",
        "\n",
        "## Trying to apply logistic regression for predicting on one airline i.e. DL (Delta Airline), for a particular origin i.e. ATL (Atlanta International Airport) and a particular destination i.e. DFW (Dallas/Fort Worth International Airport)\n"
      ]
    },
    {
      "cell_type": "markdown",
      "metadata": {
        "id": "u9R02OwJrP2x"
      },
      "source": [
        "# Loading the test data from scratch to apply the required conditions"
      ]
    },
    {
      "cell_type": "code",
      "metadata": {
        "id": "zj-sSQvqXftW"
      },
      "source": [
        "test_data = pd.read_csv('/content/drive/MyDrive/Clean_cap/test_focused_df.csv')"
      ],
      "execution_count": 56,
      "outputs": []
    },
    {
      "cell_type": "code",
      "metadata": {
        "id": "GZ0TLLGVrVBz"
      },
      "source": [
        "test_data[['Year', 'Month', 'Day']] = test_data['FL_DATE'].str.split('-', expand=True)"
      ],
      "execution_count": 57,
      "outputs": []
    },
    {
      "cell_type": "code",
      "metadata": {
        "id": "bz4yifI0rbq5"
      },
      "source": [
        "test_data.drop(columns=['FL_DATE', 'Year'], inplace=True)"
      ],
      "execution_count": 58,
      "outputs": []
    },
    {
      "cell_type": "code",
      "metadata": {
        "colab": {
          "base_uri": "https://localhost:8080/"
        },
        "id": "Gbdq4wQNrkVY",
        "outputId": "261a68a2-f42b-4eef-8212-ed1d7afe6958"
      },
      "source": [
        "test_data.shape"
      ],
      "execution_count": 59,
      "outputs": [
        {
          "output_type": "execute_result",
          "data": {
            "text/plain": [
              "(28005, 29)"
            ]
          },
          "metadata": {
            "tags": []
          },
          "execution_count": 59
        }
      ]
    },
    {
      "cell_type": "code",
      "metadata": {
        "id": "lF_cV2ScrxJr"
      },
      "source": [
        "particular_test = test_data[(test_data.OP_UNIQUE_CARRIER=='DL') & (test_data.ORIGIN=='ATL') & (test_data.DEST=='DFW')]"
      ],
      "execution_count": 60,
      "outputs": []
    },
    {
      "cell_type": "code",
      "metadata": {
        "colab": {
          "base_uri": "https://localhost:8080/",
          "height": 162
        },
        "id": "BuMVE7x_sxeC",
        "outputId": "e33fc760-172f-402d-87cd-3ce1e6b8a81c"
      },
      "source": [
        "particular_test.head(3)"
      ],
      "execution_count": 61,
      "outputs": [
        {
          "output_type": "execute_result",
          "data": {
            "text/html": [
              "<div>\n",
              "<style scoped>\n",
              "    .dataframe tbody tr th:only-of-type {\n",
              "        vertical-align: middle;\n",
              "    }\n",
              "\n",
              "    .dataframe tbody tr th {\n",
              "        vertical-align: top;\n",
              "    }\n",
              "\n",
              "    .dataframe thead th {\n",
              "        text-align: right;\n",
              "    }\n",
              "</style>\n",
              "<table border=\"1\" class=\"dataframe\">\n",
              "  <thead>\n",
              "    <tr style=\"text-align: right;\">\n",
              "      <th></th>\n",
              "      <th>YEAR</th>\n",
              "      <th>DAY_OF_MONTH</th>\n",
              "      <th>DAY_OF_WEEK</th>\n",
              "      <th>OP_UNIQUE_CARRIER</th>\n",
              "      <th>ORIGIN</th>\n",
              "      <th>ORIGIN_WAC</th>\n",
              "      <th>DEST</th>\n",
              "      <th>DEST_WAC</th>\n",
              "      <th>DEP_TIME</th>\n",
              "      <th>DEP_DELAY</th>\n",
              "      <th>DEP_DEL15</th>\n",
              "      <th>TAXI_OUT</th>\n",
              "      <th>TAXI_IN</th>\n",
              "      <th>WHEELS_OFF</th>\n",
              "      <th>WHEELS_ON</th>\n",
              "      <th>ARR_TIME</th>\n",
              "      <th>ARR_DELAY</th>\n",
              "      <th>ARR_DEL15</th>\n",
              "      <th>CANCELLED</th>\n",
              "      <th>DIVERTED</th>\n",
              "      <th>AIR_TIME</th>\n",
              "      <th>DISTANCE</th>\n",
              "      <th>CARRIER_DELAY</th>\n",
              "      <th>WEATHER_DELAY</th>\n",
              "      <th>NAS_DELAY</th>\n",
              "      <th>SECURITY_DELAY</th>\n",
              "      <th>LATE_AIRCRAFT_DELAY</th>\n",
              "      <th>Month</th>\n",
              "      <th>Day</th>\n",
              "    </tr>\n",
              "  </thead>\n",
              "  <tbody>\n",
              "    <tr>\n",
              "      <th>1599</th>\n",
              "      <td>2019</td>\n",
              "      <td>8</td>\n",
              "      <td>2</td>\n",
              "      <td>DL</td>\n",
              "      <td>ATL</td>\n",
              "      <td>34</td>\n",
              "      <td>DFW</td>\n",
              "      <td>74</td>\n",
              "      <td>1446.0</td>\n",
              "      <td>6.0</td>\n",
              "      <td>0.0</td>\n",
              "      <td>10.0</td>\n",
              "      <td>10.0</td>\n",
              "      <td>1456.0</td>\n",
              "      <td>1543.0</td>\n",
              "      <td>1553.0</td>\n",
              "      <td>-12.0</td>\n",
              "      <td>0.0</td>\n",
              "      <td>0.0</td>\n",
              "      <td>0.0</td>\n",
              "      <td>107.0</td>\n",
              "      <td>731.0</td>\n",
              "      <td>0.0</td>\n",
              "      <td>0.0</td>\n",
              "      <td>0.0</td>\n",
              "      <td>0.0</td>\n",
              "      <td>0.0</td>\n",
              "      <td>01</td>\n",
              "      <td>08</td>\n",
              "    </tr>\n",
              "    <tr>\n",
              "      <th>1610</th>\n",
              "      <td>2019</td>\n",
              "      <td>8</td>\n",
              "      <td>2</td>\n",
              "      <td>DL</td>\n",
              "      <td>ATL</td>\n",
              "      <td>34</td>\n",
              "      <td>DFW</td>\n",
              "      <td>74</td>\n",
              "      <td>1539.0</td>\n",
              "      <td>-5.0</td>\n",
              "      <td>0.0</td>\n",
              "      <td>16.0</td>\n",
              "      <td>12.0</td>\n",
              "      <td>1555.0</td>\n",
              "      <td>1645.0</td>\n",
              "      <td>1657.0</td>\n",
              "      <td>-13.0</td>\n",
              "      <td>0.0</td>\n",
              "      <td>0.0</td>\n",
              "      <td>0.0</td>\n",
              "      <td>110.0</td>\n",
              "      <td>731.0</td>\n",
              "      <td>0.0</td>\n",
              "      <td>0.0</td>\n",
              "      <td>0.0</td>\n",
              "      <td>0.0</td>\n",
              "      <td>0.0</td>\n",
              "      <td>01</td>\n",
              "      <td>08</td>\n",
              "    </tr>\n",
              "    <tr>\n",
              "      <th>1786</th>\n",
              "      <td>2019</td>\n",
              "      <td>17</td>\n",
              "      <td>4</td>\n",
              "      <td>DL</td>\n",
              "      <td>ATL</td>\n",
              "      <td>34</td>\n",
              "      <td>DFW</td>\n",
              "      <td>74</td>\n",
              "      <td>1145.0</td>\n",
              "      <td>-3.0</td>\n",
              "      <td>0.0</td>\n",
              "      <td>12.0</td>\n",
              "      <td>12.0</td>\n",
              "      <td>1157.0</td>\n",
              "      <td>1251.0</td>\n",
              "      <td>1303.0</td>\n",
              "      <td>-8.0</td>\n",
              "      <td>0.0</td>\n",
              "      <td>0.0</td>\n",
              "      <td>0.0</td>\n",
              "      <td>114.0</td>\n",
              "      <td>731.0</td>\n",
              "      <td>0.0</td>\n",
              "      <td>0.0</td>\n",
              "      <td>0.0</td>\n",
              "      <td>0.0</td>\n",
              "      <td>0.0</td>\n",
              "      <td>01</td>\n",
              "      <td>17</td>\n",
              "    </tr>\n",
              "  </tbody>\n",
              "</table>\n",
              "</div>"
            ],
            "text/plain": [
              "      YEAR  DAY_OF_MONTH  DAY_OF_WEEK  ... LATE_AIRCRAFT_DELAY Month  Day\n",
              "1599  2019             8            2  ...                 0.0    01   08\n",
              "1610  2019             8            2  ...                 0.0    01   08\n",
              "1786  2019            17            4  ...                 0.0    01   17\n",
              "\n",
              "[3 rows x 29 columns]"
            ]
          },
          "metadata": {
            "tags": []
          },
          "execution_count": 61
        }
      ]
    },
    {
      "cell_type": "code",
      "metadata": {
        "id": "8LYbx__Uszw9",
        "colab": {
          "base_uri": "https://localhost:8080/"
        },
        "outputId": "91cfacae-bee1-47bc-dc40-13568c7f3cb1"
      },
      "source": [
        "string_cols = ['OP_UNIQUE_CARRIER', 'ORIGIN', 'DEST']\n",
        "enc = LabelEncoder()\n",
        "\n",
        "for col in string_cols:\n",
        "    particular_test[col] = particular_test[col].astype('str')\n",
        "    particular_test[col] = enc.fit_transform(particular_test[col])"
      ],
      "execution_count": 62,
      "outputs": [
        {
          "output_type": "stream",
          "text": [
            "/usr/local/lib/python3.7/dist-packages/ipykernel_launcher.py:5: SettingWithCopyWarning: \n",
            "A value is trying to be set on a copy of a slice from a DataFrame.\n",
            "Try using .loc[row_indexer,col_indexer] = value instead\n",
            "\n",
            "See the caveats in the documentation: https://pandas.pydata.org/pandas-docs/stable/user_guide/indexing.html#returning-a-view-versus-a-copy\n",
            "  \"\"\"\n",
            "/usr/local/lib/python3.7/dist-packages/ipykernel_launcher.py:6: SettingWithCopyWarning: \n",
            "A value is trying to be set on a copy of a slice from a DataFrame.\n",
            "Try using .loc[row_indexer,col_indexer] = value instead\n",
            "\n",
            "See the caveats in the documentation: https://pandas.pydata.org/pandas-docs/stable/user_guide/indexing.html#returning-a-view-versus-a-copy\n",
            "  \n"
          ],
          "name": "stderr"
        }
      ]
    },
    {
      "cell_type": "markdown",
      "metadata": {
        "id": "R6UHq_F3tuXi"
      },
      "source": [
        "# Converting string values into integer"
      ]
    },
    {
      "cell_type": "code",
      "metadata": {
        "colab": {
          "base_uri": "https://localhost:8080/",
          "height": 162
        },
        "id": "a4Rh9VzWtpt_",
        "outputId": "0dfb1132-2636-4489-fd36-9d8630fe6a6c"
      },
      "source": [
        "particular_test.head(3)"
      ],
      "execution_count": 63,
      "outputs": [
        {
          "output_type": "execute_result",
          "data": {
            "text/html": [
              "<div>\n",
              "<style scoped>\n",
              "    .dataframe tbody tr th:only-of-type {\n",
              "        vertical-align: middle;\n",
              "    }\n",
              "\n",
              "    .dataframe tbody tr th {\n",
              "        vertical-align: top;\n",
              "    }\n",
              "\n",
              "    .dataframe thead th {\n",
              "        text-align: right;\n",
              "    }\n",
              "</style>\n",
              "<table border=\"1\" class=\"dataframe\">\n",
              "  <thead>\n",
              "    <tr style=\"text-align: right;\">\n",
              "      <th></th>\n",
              "      <th>YEAR</th>\n",
              "      <th>DAY_OF_MONTH</th>\n",
              "      <th>DAY_OF_WEEK</th>\n",
              "      <th>OP_UNIQUE_CARRIER</th>\n",
              "      <th>ORIGIN</th>\n",
              "      <th>ORIGIN_WAC</th>\n",
              "      <th>DEST</th>\n",
              "      <th>DEST_WAC</th>\n",
              "      <th>DEP_TIME</th>\n",
              "      <th>DEP_DELAY</th>\n",
              "      <th>DEP_DEL15</th>\n",
              "      <th>TAXI_OUT</th>\n",
              "      <th>TAXI_IN</th>\n",
              "      <th>WHEELS_OFF</th>\n",
              "      <th>WHEELS_ON</th>\n",
              "      <th>ARR_TIME</th>\n",
              "      <th>ARR_DELAY</th>\n",
              "      <th>ARR_DEL15</th>\n",
              "      <th>CANCELLED</th>\n",
              "      <th>DIVERTED</th>\n",
              "      <th>AIR_TIME</th>\n",
              "      <th>DISTANCE</th>\n",
              "      <th>CARRIER_DELAY</th>\n",
              "      <th>WEATHER_DELAY</th>\n",
              "      <th>NAS_DELAY</th>\n",
              "      <th>SECURITY_DELAY</th>\n",
              "      <th>LATE_AIRCRAFT_DELAY</th>\n",
              "      <th>Month</th>\n",
              "      <th>Day</th>\n",
              "    </tr>\n",
              "  </thead>\n",
              "  <tbody>\n",
              "    <tr>\n",
              "      <th>1599</th>\n",
              "      <td>2019</td>\n",
              "      <td>8</td>\n",
              "      <td>2</td>\n",
              "      <td>0</td>\n",
              "      <td>0</td>\n",
              "      <td>34</td>\n",
              "      <td>0</td>\n",
              "      <td>74</td>\n",
              "      <td>1446.0</td>\n",
              "      <td>6.0</td>\n",
              "      <td>0.0</td>\n",
              "      <td>10.0</td>\n",
              "      <td>10.0</td>\n",
              "      <td>1456.0</td>\n",
              "      <td>1543.0</td>\n",
              "      <td>1553.0</td>\n",
              "      <td>-12.0</td>\n",
              "      <td>0.0</td>\n",
              "      <td>0.0</td>\n",
              "      <td>0.0</td>\n",
              "      <td>107.0</td>\n",
              "      <td>731.0</td>\n",
              "      <td>0.0</td>\n",
              "      <td>0.0</td>\n",
              "      <td>0.0</td>\n",
              "      <td>0.0</td>\n",
              "      <td>0.0</td>\n",
              "      <td>01</td>\n",
              "      <td>08</td>\n",
              "    </tr>\n",
              "    <tr>\n",
              "      <th>1610</th>\n",
              "      <td>2019</td>\n",
              "      <td>8</td>\n",
              "      <td>2</td>\n",
              "      <td>0</td>\n",
              "      <td>0</td>\n",
              "      <td>34</td>\n",
              "      <td>0</td>\n",
              "      <td>74</td>\n",
              "      <td>1539.0</td>\n",
              "      <td>-5.0</td>\n",
              "      <td>0.0</td>\n",
              "      <td>16.0</td>\n",
              "      <td>12.0</td>\n",
              "      <td>1555.0</td>\n",
              "      <td>1645.0</td>\n",
              "      <td>1657.0</td>\n",
              "      <td>-13.0</td>\n",
              "      <td>0.0</td>\n",
              "      <td>0.0</td>\n",
              "      <td>0.0</td>\n",
              "      <td>110.0</td>\n",
              "      <td>731.0</td>\n",
              "      <td>0.0</td>\n",
              "      <td>0.0</td>\n",
              "      <td>0.0</td>\n",
              "      <td>0.0</td>\n",
              "      <td>0.0</td>\n",
              "      <td>01</td>\n",
              "      <td>08</td>\n",
              "    </tr>\n",
              "    <tr>\n",
              "      <th>1786</th>\n",
              "      <td>2019</td>\n",
              "      <td>17</td>\n",
              "      <td>4</td>\n",
              "      <td>0</td>\n",
              "      <td>0</td>\n",
              "      <td>34</td>\n",
              "      <td>0</td>\n",
              "      <td>74</td>\n",
              "      <td>1145.0</td>\n",
              "      <td>-3.0</td>\n",
              "      <td>0.0</td>\n",
              "      <td>12.0</td>\n",
              "      <td>12.0</td>\n",
              "      <td>1157.0</td>\n",
              "      <td>1251.0</td>\n",
              "      <td>1303.0</td>\n",
              "      <td>-8.0</td>\n",
              "      <td>0.0</td>\n",
              "      <td>0.0</td>\n",
              "      <td>0.0</td>\n",
              "      <td>114.0</td>\n",
              "      <td>731.0</td>\n",
              "      <td>0.0</td>\n",
              "      <td>0.0</td>\n",
              "      <td>0.0</td>\n",
              "      <td>0.0</td>\n",
              "      <td>0.0</td>\n",
              "      <td>01</td>\n",
              "      <td>17</td>\n",
              "    </tr>\n",
              "  </tbody>\n",
              "</table>\n",
              "</div>"
            ],
            "text/plain": [
              "      YEAR  DAY_OF_MONTH  DAY_OF_WEEK  ...  LATE_AIRCRAFT_DELAY  Month  Day\n",
              "1599  2019             8            2  ...                  0.0     01   08\n",
              "1610  2019             8            2  ...                  0.0     01   08\n",
              "1786  2019            17            4  ...                  0.0     01   17\n",
              "\n",
              "[3 rows x 29 columns]"
            ]
          },
          "metadata": {
            "tags": []
          },
          "execution_count": 63
        }
      ]
    },
    {
      "cell_type": "code",
      "metadata": {
        "id": "zDukeTxWtsPI"
      },
      "source": [
        "prediction_ATL_DL_DFW = model_logistic.predict(particular_test[['OP_UNIQUE_CARRIER', 'ORIGIN', 'DEST']])"
      ],
      "execution_count": 64,
      "outputs": []
    },
    {
      "cell_type": "code",
      "metadata": {
        "id": "S1fBesdKu-cW"
      },
      "source": [
        "accuracy_logistic_ATL_DL_DFW = accuracy_score(prediction_ATL_DL_DFW, particular_test['DEP_DEL15'])*100"
      ],
      "execution_count": 65,
      "outputs": []
    },
    {
      "cell_type": "code",
      "metadata": {
        "id": "aP3pF1y0vNiB",
        "colab": {
          "base_uri": "https://localhost:8080/"
        },
        "outputId": "344fbd35-e530-4df7-ad3e-732af5aa2206"
      },
      "source": [
        "accuracy_logistic_ATL_DL_DFW"
      ],
      "execution_count": 66,
      "outputs": [
        {
          "output_type": "execute_result",
          "data": {
            "text/plain": [
              "82.2742474916388"
            ]
          },
          "metadata": {
            "tags": []
          },
          "execution_count": 66
        }
      ]
    },
    {
      "cell_type": "code",
      "metadata": {
        "colab": {
          "base_uri": "https://localhost:8080/",
          "height": 100
        },
        "id": "TQ8olFagxW9x",
        "outputId": "6beb6f80-5e68-46eb-844f-a8b00a36eb7d"
      },
      "source": [
        "train_data.head(1)"
      ],
      "execution_count": 67,
      "outputs": [
        {
          "output_type": "execute_result",
          "data": {
            "text/html": [
              "<div>\n",
              "<style scoped>\n",
              "    .dataframe tbody tr th:only-of-type {\n",
              "        vertical-align: middle;\n",
              "    }\n",
              "\n",
              "    .dataframe tbody tr th {\n",
              "        vertical-align: top;\n",
              "    }\n",
              "\n",
              "    .dataframe thead th {\n",
              "        text-align: right;\n",
              "    }\n",
              "</style>\n",
              "<table border=\"1\" class=\"dataframe\">\n",
              "  <thead>\n",
              "    <tr style=\"text-align: right;\">\n",
              "      <th></th>\n",
              "      <th>YEAR</th>\n",
              "      <th>DAY_OF_MONTH</th>\n",
              "      <th>DAY_OF_WEEK</th>\n",
              "      <th>OP_UNIQUE_CARRIER</th>\n",
              "      <th>ORIGIN</th>\n",
              "      <th>ORIGIN_WAC</th>\n",
              "      <th>DEST</th>\n",
              "      <th>DEST_WAC</th>\n",
              "      <th>DEP_TIME</th>\n",
              "      <th>DEP_DELAY</th>\n",
              "      <th>DEP_DEL15</th>\n",
              "      <th>TAXI_OUT</th>\n",
              "      <th>TAXI_IN</th>\n",
              "      <th>WHEELS_OFF</th>\n",
              "      <th>WHEELS_ON</th>\n",
              "      <th>ARR_TIME</th>\n",
              "      <th>ARR_DELAY</th>\n",
              "      <th>ARR_DEL15</th>\n",
              "      <th>CANCELLED</th>\n",
              "      <th>DIVERTED</th>\n",
              "      <th>AIR_TIME</th>\n",
              "      <th>DISTANCE</th>\n",
              "      <th>CARRIER_DELAY</th>\n",
              "      <th>WEATHER_DELAY</th>\n",
              "      <th>NAS_DELAY</th>\n",
              "      <th>SECURITY_DELAY</th>\n",
              "      <th>LATE_AIRCRAFT_DELAY</th>\n",
              "      <th>Month</th>\n",
              "      <th>Day</th>\n",
              "    </tr>\n",
              "  </thead>\n",
              "  <tbody>\n",
              "    <tr>\n",
              "      <th>0</th>\n",
              "      <td>2015</td>\n",
              "      <td>15</td>\n",
              "      <td>4</td>\n",
              "      <td>1</td>\n",
              "      <td>1</td>\n",
              "      <td>74</td>\n",
              "      <td>144</td>\n",
              "      <td>45</td>\n",
              "      <td>2032.0</td>\n",
              "      <td>32.0</td>\n",
              "      <td>1.0</td>\n",
              "      <td>13.0</td>\n",
              "      <td>5.0</td>\n",
              "      <td>2045.0</td>\n",
              "      <td>2236.0</td>\n",
              "      <td>2241.0</td>\n",
              "      <td>24.0</td>\n",
              "      <td>1.0</td>\n",
              "      <td>0.0</td>\n",
              "      <td>0.0</td>\n",
              "      <td>111.0</td>\n",
              "      <td>853.0</td>\n",
              "      <td>11.0</td>\n",
              "      <td>0.0</td>\n",
              "      <td>0.0</td>\n",
              "      <td>0.0</td>\n",
              "      <td>13.0</td>\n",
              "      <td>01</td>\n",
              "      <td>15</td>\n",
              "    </tr>\n",
              "  </tbody>\n",
              "</table>\n",
              "</div>"
            ],
            "text/plain": [
              "   YEAR  DAY_OF_MONTH  DAY_OF_WEEK  ...  LATE_AIRCRAFT_DELAY  Month  Day\n",
              "0  2015            15            4  ...                 13.0     01   15\n",
              "\n",
              "[1 rows x 29 columns]"
            ]
          },
          "metadata": {
            "tags": []
          },
          "execution_count": 67
        }
      ]
    },
    {
      "cell_type": "code",
      "metadata": {
        "colab": {
          "base_uri": "https://localhost:8080/",
          "height": 100
        },
        "id": "GIL4skdnxcPA",
        "outputId": "7238dfbd-bbf5-4d2e-8b49-bbfc5a996386"
      },
      "source": [
        "test_data.head(1)"
      ],
      "execution_count": 68,
      "outputs": [
        {
          "output_type": "execute_result",
          "data": {
            "text/html": [
              "<div>\n",
              "<style scoped>\n",
              "    .dataframe tbody tr th:only-of-type {\n",
              "        vertical-align: middle;\n",
              "    }\n",
              "\n",
              "    .dataframe tbody tr th {\n",
              "        vertical-align: top;\n",
              "    }\n",
              "\n",
              "    .dataframe thead th {\n",
              "        text-align: right;\n",
              "    }\n",
              "</style>\n",
              "<table border=\"1\" class=\"dataframe\">\n",
              "  <thead>\n",
              "    <tr style=\"text-align: right;\">\n",
              "      <th></th>\n",
              "      <th>YEAR</th>\n",
              "      <th>DAY_OF_MONTH</th>\n",
              "      <th>DAY_OF_WEEK</th>\n",
              "      <th>OP_UNIQUE_CARRIER</th>\n",
              "      <th>ORIGIN</th>\n",
              "      <th>ORIGIN_WAC</th>\n",
              "      <th>DEST</th>\n",
              "      <th>DEST_WAC</th>\n",
              "      <th>DEP_TIME</th>\n",
              "      <th>DEP_DELAY</th>\n",
              "      <th>DEP_DEL15</th>\n",
              "      <th>TAXI_OUT</th>\n",
              "      <th>TAXI_IN</th>\n",
              "      <th>WHEELS_OFF</th>\n",
              "      <th>WHEELS_ON</th>\n",
              "      <th>ARR_TIME</th>\n",
              "      <th>ARR_DELAY</th>\n",
              "      <th>ARR_DEL15</th>\n",
              "      <th>CANCELLED</th>\n",
              "      <th>DIVERTED</th>\n",
              "      <th>AIR_TIME</th>\n",
              "      <th>DISTANCE</th>\n",
              "      <th>CARRIER_DELAY</th>\n",
              "      <th>WEATHER_DELAY</th>\n",
              "      <th>NAS_DELAY</th>\n",
              "      <th>SECURITY_DELAY</th>\n",
              "      <th>LATE_AIRCRAFT_DELAY</th>\n",
              "      <th>Month</th>\n",
              "      <th>Day</th>\n",
              "    </tr>\n",
              "  </thead>\n",
              "  <tbody>\n",
              "    <tr>\n",
              "      <th>0</th>\n",
              "      <td>2019</td>\n",
              "      <td>25</td>\n",
              "      <td>5</td>\n",
              "      <td>OO</td>\n",
              "      <td>ATL</td>\n",
              "      <td>34</td>\n",
              "      <td>FAY</td>\n",
              "      <td>36</td>\n",
              "      <td>1057.0</td>\n",
              "      <td>-2.0</td>\n",
              "      <td>0.0</td>\n",
              "      <td>55.0</td>\n",
              "      <td>6.0</td>\n",
              "      <td>1152.0</td>\n",
              "      <td>1238.0</td>\n",
              "      <td>1244.0</td>\n",
              "      <td>30.0</td>\n",
              "      <td>1.0</td>\n",
              "      <td>0.0</td>\n",
              "      <td>0.0</td>\n",
              "      <td>46.0</td>\n",
              "      <td>331.0</td>\n",
              "      <td>0.0</td>\n",
              "      <td>0.0</td>\n",
              "      <td>30.0</td>\n",
              "      <td>0.0</td>\n",
              "      <td>0.0</td>\n",
              "      <td>01</td>\n",
              "      <td>25</td>\n",
              "    </tr>\n",
              "  </tbody>\n",
              "</table>\n",
              "</div>"
            ],
            "text/plain": [
              "   YEAR  DAY_OF_MONTH  DAY_OF_WEEK  ... LATE_AIRCRAFT_DELAY Month  Day\n",
              "0  2019            25            5  ...                 0.0    01   25\n",
              "\n",
              "[1 rows x 29 columns]"
            ]
          },
          "metadata": {
            "tags": []
          },
          "execution_count": 68
        }
      ]
    },
    {
      "cell_type": "markdown",
      "metadata": {
        "id": "uQo08zB5cQON"
      },
      "source": [
        "### Neural Networks"
      ]
    },
    {
      "cell_type": "code",
      "metadata": {
        "id": "OVaJyoZNc2ua"
      },
      "source": [
        "concat_df = pd.concat([train_data, test_data], ignore_index=True)"
      ],
      "execution_count": 69,
      "outputs": []
    },
    {
      "cell_type": "code",
      "metadata": {
        "id": "_7kjA76Ot5ZN"
      },
      "source": [
        "concat_df_drop = concat_df.drop(columns='DEP_DEL15')"
      ],
      "execution_count": 70,
      "outputs": []
    },
    {
      "cell_type": "code",
      "metadata": {
        "id": "CjALD7aOXoQH"
      },
      "source": [
        "string_cols = ['OP_UNIQUE_CARRIER', 'ORIGIN', 'DEST']\n",
        "enc = LabelEncoder()\n",
        "\n",
        "for col in string_cols:\n",
        "    concat_df_drop[col] = concat_df_drop[col].astype('str')\n",
        "    \n",
        "    concat_df_drop[col] = enc.fit_transform(concat_df_drop[col])\n",
        "    "
      ],
      "execution_count": 79,
      "outputs": []
    },
    {
      "cell_type": "code",
      "metadata": {
        "colab": {
          "base_uri": "https://localhost:8080/"
        },
        "id": "YhmGRLuftfvE",
        "outputId": "29819610-fffa-470a-d97f-f0435c60145b"
      },
      "source": [
        "concat_df.shape"
      ],
      "execution_count": 71,
      "outputs": [
        {
          "output_type": "execute_result",
          "data": {
            "text/plain": [
              "(305377, 29)"
            ]
          },
          "metadata": {
            "tags": []
          },
          "execution_count": 71
        }
      ]
    },
    {
      "cell_type": "code",
      "metadata": {
        "id": "980eDL45tjta"
      },
      "source": [
        "concat_labels = concat_df['DEP_DEL15']"
      ],
      "execution_count": 80,
      "outputs": []
    },
    {
      "cell_type": "code",
      "metadata": {
        "id": "pcTDYAyTwU3-"
      },
      "source": [
        "X_train, X_test, y_train, y_test = train_test_split(concat_df_drop, concat_labels, test_size=0.2)"
      ],
      "execution_count": 81,
      "outputs": []
    },
    {
      "cell_type": "code",
      "metadata": {
        "colab": {
          "base_uri": "https://localhost:8080/"
        },
        "id": "MjYRO1-eyilS",
        "outputId": "b90d0eed-a1a8-44c5-ebcb-5eb8358979aa"
      },
      "source": [
        "X_train.shape"
      ],
      "execution_count": 82,
      "outputs": [
        {
          "output_type": "execute_result",
          "data": {
            "text/plain": [
              "(244301, 28)"
            ]
          },
          "metadata": {
            "tags": []
          },
          "execution_count": 82
        }
      ]
    },
    {
      "cell_type": "code",
      "metadata": {
        "colab": {
          "base_uri": "https://localhost:8080/"
        },
        "id": "6uDmHG8Dyksi",
        "outputId": "44cffb1e-35f0-4dba-e83f-fbe002300a8f"
      },
      "source": [
        "y_train.shape"
      ],
      "execution_count": 83,
      "outputs": [
        {
          "output_type": "execute_result",
          "data": {
            "text/plain": [
              "(244301,)"
            ]
          },
          "metadata": {
            "tags": []
          },
          "execution_count": 83
        }
      ]
    },
    {
      "cell_type": "code",
      "metadata": {
        "id": "nbT8l14wwRZd"
      },
      "source": [
        "from keras.layers import Activation, Dense\n",
        "\n",
        "model_dense = Sequential()\n",
        "                      \n",
        "model_dense.add(Dense(30, activation='tanh'))\n",
        "\n",
        "model_dense.add(Dense(1, activation='sigmoid'))"
      ],
      "execution_count": 84,
      "outputs": []
    },
    {
      "cell_type": "code",
      "metadata": {
        "id": "VR-sDte3yAM0"
      },
      "source": [
        "model_dense.compile(loss='binary_crossentropy', optimizer='adam', metrics=['accuracy'])"
      ],
      "execution_count": 85,
      "outputs": []
    },
    {
      "cell_type": "code",
      "metadata": {
        "id": "x-AQZblEy-Y2"
      },
      "source": [
        "X = np.asarray(X_train).astype(np.float32)\n",
        "y = np.asarray(y_train).astype(np.float32)"
      ],
      "execution_count": 86,
      "outputs": []
    },
    {
      "cell_type": "code",
      "metadata": {
        "colab": {
          "base_uri": "https://localhost:8080/"
        },
        "id": "Ay_LsXBLyEr6",
        "outputId": "8c3f18ff-1c54-406c-f9c3-642927ba7530"
      },
      "source": [
        "results1 = model_dense.fit(X, y_train, epochs=5, batch_size=32, validation_split=0.1)"
      ],
      "execution_count": 87,
      "outputs": [
        {
          "output_type": "stream",
          "text": [
            "Epoch 1/5\n",
            "6871/6871 [==============================] - 11s 1ms/step - loss: 0.4401 - accuracy: 0.8185 - val_loss: 0.1604 - val_accuracy: 0.9592\n",
            "Epoch 2/5\n",
            "6871/6871 [==============================] - 10s 1ms/step - loss: 0.1615 - accuracy: 0.9489 - val_loss: 0.1440 - val_accuracy: 0.9681\n",
            "Epoch 3/5\n",
            "6871/6871 [==============================] - 10s 1ms/step - loss: 0.1178 - accuracy: 0.9627 - val_loss: 0.0782 - val_accuracy: 0.9725\n",
            "Epoch 4/5\n",
            "6871/6871 [==============================] - 9s 1ms/step - loss: 0.1064 - accuracy: 0.9633 - val_loss: 0.0881 - val_accuracy: 0.9627\n",
            "Epoch 5/5\n",
            "6871/6871 [==============================] - 9s 1ms/step - loss: 0.0911 - accuracy: 0.9699 - val_loss: 0.0670 - val_accuracy: 0.9871\n"
          ],
          "name": "stdout"
        }
      ]
    },
    {
      "cell_type": "code",
      "metadata": {
        "id": "WSQcFjgn0YU7"
      },
      "source": [
        "model_more_dense = Sequential()\n",
        "\n",
        "model_more_dense.add(Dense(30, activation='relu'))\n",
        "\n",
        "model_more_dense.add(Dense(10, activation='relu'))\n",
        "\n",
        "model_more_dense.add(Dense(5, activation='relu'))\n",
        "\n",
        "model_more_dense.add(Dense(1, activation='sigmoid'))"
      ],
      "execution_count": 88,
      "outputs": []
    },
    {
      "cell_type": "code",
      "metadata": {
        "id": "hVPUnSoC1dyN"
      },
      "source": [
        "model_more_dense.compile(loss='binary_crossentropy', optimizer='adam', metrics=['accuracy'])"
      ],
      "execution_count": 89,
      "outputs": []
    },
    {
      "cell_type": "code",
      "metadata": {
        "colab": {
          "base_uri": "https://localhost:8080/"
        },
        "id": "7GdVo80h1f3M",
        "outputId": "5fa40ef1-8618-4ec9-fb03-d964d7587edd"
      },
      "source": [
        "results1 = model_more_dense.fit(X, y_train, epochs=5, batch_size=32, validation_split=0.1)"
      ],
      "execution_count": 90,
      "outputs": [
        {
          "output_type": "stream",
          "text": [
            "Epoch 1/5\n",
            "6871/6871 [==============================] - 11s 2ms/step - loss: 0.3603 - accuracy: 0.9481 - val_loss: 0.0502 - val_accuracy: 0.9774\n",
            "Epoch 2/5\n",
            "6871/6871 [==============================] - 11s 2ms/step - loss: 0.0428 - accuracy: 0.9830 - val_loss: 0.0196 - val_accuracy: 0.9935\n",
            "Epoch 3/5\n",
            "6871/6871 [==============================] - 10s 2ms/step - loss: 0.0323 - accuracy: 0.9867 - val_loss: 0.0201 - val_accuracy: 0.9909\n",
            "Epoch 4/5\n",
            "6871/6871 [==============================] - 10s 2ms/step - loss: 0.0276 - accuracy: 0.9885 - val_loss: 0.0131 - val_accuracy: 0.9959\n",
            "Epoch 5/5\n",
            "6871/6871 [==============================] - 11s 2ms/step - loss: 0.0246 - accuracy: 0.9905 - val_loss: 0.0160 - val_accuracy: 0.9920\n"
          ],
          "name": "stdout"
        }
      ]
    }
  ]
}