{
  "nbformat": 4,
  "nbformat_minor": 0,
  "metadata": {
    "colab": {
      "name": "preprocessing_data_phase3.ipynb",
      "provenance": [],
      "collapsed_sections": [],
      "toc_visible": true
    },
    "kernelspec": {
      "name": "python3",
      "display_name": "Python 3"
    },
    "language_info": {
      "name": "python"
    }
  },
  "cells": [
    {
      "cell_type": "code",
      "metadata": {
        "id": "gWFr-sNDF8yj"
      },
      "source": [
        "import pandas as pd\n",
        "import numpy as np\n",
        "import matplotlib.pyplot as plt "
      ],
      "execution_count": 1,
      "outputs": []
    },
    {
      "cell_type": "code",
      "metadata": {
        "colab": {
          "base_uri": "https://localhost:8080/"
        },
        "id": "RQtxkqEPF_Fr",
        "outputId": "e0d7ff00-d1a1-46c7-ef0b-9fb3be49d3ff"
      },
      "source": [
        "from google.colab import drive \n",
        "drive.mount('drive')"
      ],
      "execution_count": 2,
      "outputs": [
        {
          "output_type": "stream",
          "text": [
            "Mounted at drive\n"
          ],
          "name": "stdout"
        }
      ]
    },
    {
      "cell_type": "code",
      "metadata": {
        "id": "-LOTJKsYGBp-"
      },
      "source": [
        "data = pd.read_csv('/content/drive/MyDrive/Clean_cap/flights_jan2015to2018.csv')"
      ],
      "execution_count": 3,
      "outputs": []
    },
    {
      "cell_type": "code",
      "metadata": {
        "colab": {
          "base_uri": "https://localhost:8080/"
        },
        "id": "a_QwloT4Gai8",
        "outputId": "92efbd93-db29-4591-90b9-eab9edce736d"
      },
      "source": [
        "data.shape"
      ],
      "execution_count": 5,
      "outputs": [
        {
          "output_type": "execute_result",
          "data": {
            "text/plain": [
              "(1881656, 28)"
            ]
          },
          "metadata": {
            "tags": []
          },
          "execution_count": 5
        }
      ]
    },
    {
      "cell_type": "code",
      "metadata": {
        "colab": {
          "base_uri": "https://localhost:8080/",
          "height": 213
        },
        "id": "b2CHg5jPGgLc",
        "outputId": "e1ae8c14-e315-46a8-e2d9-d2f0cca009aa"
      },
      "source": [
        "data.head(3)"
      ],
      "execution_count": 6,
      "outputs": [
        {
          "output_type": "execute_result",
          "data": {
            "text/html": [
              "<div>\n",
              "<style scoped>\n",
              "    .dataframe tbody tr th:only-of-type {\n",
              "        vertical-align: middle;\n",
              "    }\n",
              "\n",
              "    .dataframe tbody tr th {\n",
              "        vertical-align: top;\n",
              "    }\n",
              "\n",
              "    .dataframe thead th {\n",
              "        text-align: right;\n",
              "    }\n",
              "</style>\n",
              "<table border=\"1\" class=\"dataframe\">\n",
              "  <thead>\n",
              "    <tr style=\"text-align: right;\">\n",
              "      <th></th>\n",
              "      <th>YEAR</th>\n",
              "      <th>DAY_OF_MONTH</th>\n",
              "      <th>DAY_OF_WEEK</th>\n",
              "      <th>FL_DATE</th>\n",
              "      <th>OP_UNIQUE_CARRIER</th>\n",
              "      <th>ORIGIN</th>\n",
              "      <th>ORIGIN_WAC</th>\n",
              "      <th>DEST</th>\n",
              "      <th>DEST_WAC</th>\n",
              "      <th>DEP_TIME</th>\n",
              "      <th>DEP_DELAY</th>\n",
              "      <th>DEP_DEL15</th>\n",
              "      <th>TAXI_OUT</th>\n",
              "      <th>TAXI_IN</th>\n",
              "      <th>WHEELS_OFF</th>\n",
              "      <th>WHEELS_ON</th>\n",
              "      <th>ARR_TIME</th>\n",
              "      <th>ARR_DELAY</th>\n",
              "      <th>ARR_DEL15</th>\n",
              "      <th>CANCELLED</th>\n",
              "      <th>DIVERTED</th>\n",
              "      <th>AIR_TIME</th>\n",
              "      <th>DISTANCE</th>\n",
              "      <th>CARRIER_DELAY</th>\n",
              "      <th>WEATHER_DELAY</th>\n",
              "      <th>NAS_DELAY</th>\n",
              "      <th>SECURITY_DELAY</th>\n",
              "      <th>LATE_AIRCRAFT_DELAY</th>\n",
              "    </tr>\n",
              "  </thead>\n",
              "  <tbody>\n",
              "    <tr>\n",
              "      <th>0</th>\n",
              "      <td>2015</td>\n",
              "      <td>15</td>\n",
              "      <td>4</td>\n",
              "      <td>2015-01-15</td>\n",
              "      <td>AA</td>\n",
              "      <td>DFW</td>\n",
              "      <td>74</td>\n",
              "      <td>MKE</td>\n",
              "      <td>45</td>\n",
              "      <td>2032.0</td>\n",
              "      <td>32.0</td>\n",
              "      <td>1.0</td>\n",
              "      <td>13.0</td>\n",
              "      <td>5.0</td>\n",
              "      <td>2045.0</td>\n",
              "      <td>2236.0</td>\n",
              "      <td>2241.0</td>\n",
              "      <td>24.0</td>\n",
              "      <td>1.0</td>\n",
              "      <td>0.0</td>\n",
              "      <td>0.0</td>\n",
              "      <td>111.0</td>\n",
              "      <td>853.0</td>\n",
              "      <td>11.0</td>\n",
              "      <td>0.0</td>\n",
              "      <td>0.0</td>\n",
              "      <td>0.0</td>\n",
              "      <td>13.0</td>\n",
              "    </tr>\n",
              "    <tr>\n",
              "      <th>1</th>\n",
              "      <td>2015</td>\n",
              "      <td>16</td>\n",
              "      <td>5</td>\n",
              "      <td>2015-01-16</td>\n",
              "      <td>AA</td>\n",
              "      <td>DFW</td>\n",
              "      <td>74</td>\n",
              "      <td>MKE</td>\n",
              "      <td>45</td>\n",
              "      <td>2044.0</td>\n",
              "      <td>44.0</td>\n",
              "      <td>1.0</td>\n",
              "      <td>12.0</td>\n",
              "      <td>8.0</td>\n",
              "      <td>2056.0</td>\n",
              "      <td>2252.0</td>\n",
              "      <td>2300.0</td>\n",
              "      <td>43.0</td>\n",
              "      <td>1.0</td>\n",
              "      <td>0.0</td>\n",
              "      <td>0.0</td>\n",
              "      <td>116.0</td>\n",
              "      <td>853.0</td>\n",
              "      <td>43.0</td>\n",
              "      <td>0.0</td>\n",
              "      <td>0.0</td>\n",
              "      <td>0.0</td>\n",
              "      <td>0.0</td>\n",
              "    </tr>\n",
              "    <tr>\n",
              "      <th>2</th>\n",
              "      <td>2015</td>\n",
              "      <td>17</td>\n",
              "      <td>6</td>\n",
              "      <td>2015-01-17</td>\n",
              "      <td>AA</td>\n",
              "      <td>DFW</td>\n",
              "      <td>74</td>\n",
              "      <td>MKE</td>\n",
              "      <td>45</td>\n",
              "      <td>1955.0</td>\n",
              "      <td>-5.0</td>\n",
              "      <td>0.0</td>\n",
              "      <td>15.0</td>\n",
              "      <td>7.0</td>\n",
              "      <td>2010.0</td>\n",
              "      <td>2157.0</td>\n",
              "      <td>2204.0</td>\n",
              "      <td>-13.0</td>\n",
              "      <td>0.0</td>\n",
              "      <td>0.0</td>\n",
              "      <td>0.0</td>\n",
              "      <td>107.0</td>\n",
              "      <td>853.0</td>\n",
              "      <td>0.0</td>\n",
              "      <td>0.0</td>\n",
              "      <td>0.0</td>\n",
              "      <td>0.0</td>\n",
              "      <td>0.0</td>\n",
              "    </tr>\n",
              "  </tbody>\n",
              "</table>\n",
              "</div>"
            ],
            "text/plain": [
              "   YEAR  DAY_OF_MONTH  ...  SECURITY_DELAY LATE_AIRCRAFT_DELAY\n",
              "0  2015            15  ...             0.0                13.0\n",
              "1  2015            16  ...             0.0                 0.0\n",
              "2  2015            17  ...             0.0                 0.0\n",
              "\n",
              "[3 rows x 28 columns]"
            ]
          },
          "metadata": {
            "tags": []
          },
          "execution_count": 6
        }
      ]
    },
    {
      "cell_type": "code",
      "metadata": {
        "id": "KSEyXlwdt-q7"
      },
      "source": [
        "test_data = pd.read_csv('/content/drive/MyDrive/Clean_cap/flights_jan2019_clean.csv')"
      ],
      "execution_count": 7,
      "outputs": []
    },
    {
      "cell_type": "code",
      "metadata": {
        "colab": {
          "base_uri": "https://localhost:8080/"
        },
        "id": "J_6UqS1kaOGm",
        "outputId": "11adb191-1656-4236-d9e7-6a8f3924584b"
      },
      "source": [
        "test_data.shape"
      ],
      "execution_count": 8,
      "outputs": [
        {
          "output_type": "execute_result",
          "data": {
            "text/plain": [
              "(565963, 28)"
            ]
          },
          "metadata": {
            "tags": []
          },
          "execution_count": 8
        }
      ]
    },
    {
      "cell_type": "markdown",
      "metadata": {
        "id": "tejEvyzhYto7"
      },
      "source": [
        "## Focusing on the top 3 airports to narrow down the data"
      ]
    },
    {
      "cell_type": "code",
      "metadata": {
        "id": "U7sRN5a_IDY4"
      },
      "source": [
        "origin_focus_train = data[(data.ORIGIN=='ATL') | (data.ORIGIN=='ORD') | (data.ORIGIN=='DFW')]"
      ],
      "execution_count": 9,
      "outputs": []
    },
    {
      "cell_type": "code",
      "metadata": {
        "id": "kRPPgpl5t5dl"
      },
      "source": [
        "origin_focus_test = test_data[(test_data.ORIGIN=='ATL') | (test_data.ORIGIN=='ORD') | (test_data.ORIGIN=='DFW')]"
      ],
      "execution_count": 10,
      "outputs": []
    },
    {
      "cell_type": "code",
      "metadata": {
        "colab": {
          "base_uri": "https://localhost:8080/"
        },
        "id": "YHZs9oIcaRKI",
        "outputId": "7d231395-6089-4717-9fc6-d042d4bcce68"
      },
      "source": [
        "origin_focus_train.shape"
      ],
      "execution_count": 11,
      "outputs": [
        {
          "output_type": "execute_result",
          "data": {
            "text/plain": [
              "(277372, 28)"
            ]
          },
          "metadata": {
            "tags": []
          },
          "execution_count": 11
        }
      ]
    },
    {
      "cell_type": "code",
      "metadata": {
        "colab": {
          "base_uri": "https://localhost:8080/"
        },
        "id": "xq_dh9Qvaaft",
        "outputId": "90ec41fb-9448-4950-f66e-15ba69ab06b8"
      },
      "source": [
        "origin_focus_test.shape"
      ],
      "execution_count": 12,
      "outputs": [
        {
          "output_type": "execute_result",
          "data": {
            "text/plain": [
              "(76824, 28)"
            ]
          },
          "metadata": {
            "tags": []
          },
          "execution_count": 12
        }
      ]
    },
    {
      "cell_type": "markdown",
      "metadata": {
        "id": "Q1p6ro9rZO5m"
      },
      "source": [
        "### Narrowing down the test data to top 3 airlines"
      ]
    },
    {
      "cell_type": "code",
      "metadata": {
        "id": "79jR-oeNReyA"
      },
      "source": [
        "origin_focus_test = origin_focus_test[(origin_focus_test.OP_UNIQUE_CARRIER=='WN') | (origin_focus_test.OP_UNIQUE_CARRIER=='DL') | (origin_focus_test.OP_UNIQUE_CARRIER=='OO')]"
      ],
      "execution_count": 13,
      "outputs": []
    },
    {
      "cell_type": "code",
      "metadata": {
        "colab": {
          "base_uri": "https://localhost:8080/"
        },
        "id": "fYGQFmLVasS0",
        "outputId": "5d06dd61-bb01-4991-e802-97d51c676266"
      },
      "source": [
        "origin_focus_test.shape"
      ],
      "execution_count": 14,
      "outputs": [
        {
          "output_type": "execute_result",
          "data": {
            "text/plain": [
              "(31454, 28)"
            ]
          },
          "metadata": {
            "tags": []
          },
          "execution_count": 14
        }
      ]
    },
    {
      "cell_type": "code",
      "metadata": {
        "colab": {
          "base_uri": "https://localhost:8080/"
        },
        "id": "R4undX1cJnZi",
        "outputId": "2d7ca105-2bf3-458e-ba63-3c7b832b5234"
      },
      "source": [
        "origin_focus_train['ORIGIN'].nunique()"
      ],
      "execution_count": 15,
      "outputs": [
        {
          "output_type": "execute_result",
          "data": {
            "text/plain": [
              "3"
            ]
          },
          "metadata": {
            "tags": []
          },
          "execution_count": 15
        }
      ]
    },
    {
      "cell_type": "code",
      "metadata": {
        "id": "Mqofx1UGIqT6"
      },
      "source": [
        "focused_df = pd.DataFrame(origin_focus_train)"
      ],
      "execution_count": 16,
      "outputs": []
    },
    {
      "cell_type": "code",
      "metadata": {
        "id": "Y8K3ikaZIzGr",
        "colab": {
          "base_uri": "https://localhost:8080/",
          "height": 609
        },
        "outputId": "5ca0d068-06ae-4fe9-9128-b7c88fff3143"
      },
      "source": [
        "focused_df"
      ],
      "execution_count": 17,
      "outputs": [
        {
          "output_type": "execute_result",
          "data": {
            "text/html": [
              "<div>\n",
              "<style scoped>\n",
              "    .dataframe tbody tr th:only-of-type {\n",
              "        vertical-align: middle;\n",
              "    }\n",
              "\n",
              "    .dataframe tbody tr th {\n",
              "        vertical-align: top;\n",
              "    }\n",
              "\n",
              "    .dataframe thead th {\n",
              "        text-align: right;\n",
              "    }\n",
              "</style>\n",
              "<table border=\"1\" class=\"dataframe\">\n",
              "  <thead>\n",
              "    <tr style=\"text-align: right;\">\n",
              "      <th></th>\n",
              "      <th>YEAR</th>\n",
              "      <th>DAY_OF_MONTH</th>\n",
              "      <th>DAY_OF_WEEK</th>\n",
              "      <th>FL_DATE</th>\n",
              "      <th>OP_UNIQUE_CARRIER</th>\n",
              "      <th>ORIGIN</th>\n",
              "      <th>ORIGIN_WAC</th>\n",
              "      <th>DEST</th>\n",
              "      <th>DEST_WAC</th>\n",
              "      <th>DEP_TIME</th>\n",
              "      <th>DEP_DELAY</th>\n",
              "      <th>DEP_DEL15</th>\n",
              "      <th>TAXI_OUT</th>\n",
              "      <th>TAXI_IN</th>\n",
              "      <th>WHEELS_OFF</th>\n",
              "      <th>WHEELS_ON</th>\n",
              "      <th>ARR_TIME</th>\n",
              "      <th>ARR_DELAY</th>\n",
              "      <th>ARR_DEL15</th>\n",
              "      <th>CANCELLED</th>\n",
              "      <th>DIVERTED</th>\n",
              "      <th>AIR_TIME</th>\n",
              "      <th>DISTANCE</th>\n",
              "      <th>CARRIER_DELAY</th>\n",
              "      <th>WEATHER_DELAY</th>\n",
              "      <th>NAS_DELAY</th>\n",
              "      <th>SECURITY_DELAY</th>\n",
              "      <th>LATE_AIRCRAFT_DELAY</th>\n",
              "    </tr>\n",
              "  </thead>\n",
              "  <tbody>\n",
              "    <tr>\n",
              "      <th>0</th>\n",
              "      <td>2015</td>\n",
              "      <td>15</td>\n",
              "      <td>4</td>\n",
              "      <td>2015-01-15</td>\n",
              "      <td>AA</td>\n",
              "      <td>DFW</td>\n",
              "      <td>74</td>\n",
              "      <td>MKE</td>\n",
              "      <td>45</td>\n",
              "      <td>2032.0</td>\n",
              "      <td>32.0</td>\n",
              "      <td>1.0</td>\n",
              "      <td>13.0</td>\n",
              "      <td>5.0</td>\n",
              "      <td>2045.0</td>\n",
              "      <td>2236.0</td>\n",
              "      <td>2241.0</td>\n",
              "      <td>24.0</td>\n",
              "      <td>1.0</td>\n",
              "      <td>0.0</td>\n",
              "      <td>0.0</td>\n",
              "      <td>111.0</td>\n",
              "      <td>853.0</td>\n",
              "      <td>11.0</td>\n",
              "      <td>0.0</td>\n",
              "      <td>0.0</td>\n",
              "      <td>0.0</td>\n",
              "      <td>13.0</td>\n",
              "    </tr>\n",
              "    <tr>\n",
              "      <th>1</th>\n",
              "      <td>2015</td>\n",
              "      <td>16</td>\n",
              "      <td>5</td>\n",
              "      <td>2015-01-16</td>\n",
              "      <td>AA</td>\n",
              "      <td>DFW</td>\n",
              "      <td>74</td>\n",
              "      <td>MKE</td>\n",
              "      <td>45</td>\n",
              "      <td>2044.0</td>\n",
              "      <td>44.0</td>\n",
              "      <td>1.0</td>\n",
              "      <td>12.0</td>\n",
              "      <td>8.0</td>\n",
              "      <td>2056.0</td>\n",
              "      <td>2252.0</td>\n",
              "      <td>2300.0</td>\n",
              "      <td>43.0</td>\n",
              "      <td>1.0</td>\n",
              "      <td>0.0</td>\n",
              "      <td>0.0</td>\n",
              "      <td>116.0</td>\n",
              "      <td>853.0</td>\n",
              "      <td>43.0</td>\n",
              "      <td>0.0</td>\n",
              "      <td>0.0</td>\n",
              "      <td>0.0</td>\n",
              "      <td>0.0</td>\n",
              "    </tr>\n",
              "    <tr>\n",
              "      <th>2</th>\n",
              "      <td>2015</td>\n",
              "      <td>17</td>\n",
              "      <td>6</td>\n",
              "      <td>2015-01-17</td>\n",
              "      <td>AA</td>\n",
              "      <td>DFW</td>\n",
              "      <td>74</td>\n",
              "      <td>MKE</td>\n",
              "      <td>45</td>\n",
              "      <td>1955.0</td>\n",
              "      <td>-5.0</td>\n",
              "      <td>0.0</td>\n",
              "      <td>15.0</td>\n",
              "      <td>7.0</td>\n",
              "      <td>2010.0</td>\n",
              "      <td>2157.0</td>\n",
              "      <td>2204.0</td>\n",
              "      <td>-13.0</td>\n",
              "      <td>0.0</td>\n",
              "      <td>0.0</td>\n",
              "      <td>0.0</td>\n",
              "      <td>107.0</td>\n",
              "      <td>853.0</td>\n",
              "      <td>0.0</td>\n",
              "      <td>0.0</td>\n",
              "      <td>0.0</td>\n",
              "      <td>0.0</td>\n",
              "      <td>0.0</td>\n",
              "    </tr>\n",
              "    <tr>\n",
              "      <th>3</th>\n",
              "      <td>2015</td>\n",
              "      <td>18</td>\n",
              "      <td>7</td>\n",
              "      <td>2015-01-18</td>\n",
              "      <td>AA</td>\n",
              "      <td>DFW</td>\n",
              "      <td>74</td>\n",
              "      <td>MKE</td>\n",
              "      <td>45</td>\n",
              "      <td>1957.0</td>\n",
              "      <td>-3.0</td>\n",
              "      <td>0.0</td>\n",
              "      <td>12.0</td>\n",
              "      <td>4.0</td>\n",
              "      <td>2009.0</td>\n",
              "      <td>2205.0</td>\n",
              "      <td>2209.0</td>\n",
              "      <td>-8.0</td>\n",
              "      <td>0.0</td>\n",
              "      <td>0.0</td>\n",
              "      <td>0.0</td>\n",
              "      <td>116.0</td>\n",
              "      <td>853.0</td>\n",
              "      <td>0.0</td>\n",
              "      <td>0.0</td>\n",
              "      <td>0.0</td>\n",
              "      <td>0.0</td>\n",
              "      <td>0.0</td>\n",
              "    </tr>\n",
              "    <tr>\n",
              "      <th>4</th>\n",
              "      <td>2015</td>\n",
              "      <td>19</td>\n",
              "      <td>1</td>\n",
              "      <td>2015-01-19</td>\n",
              "      <td>AA</td>\n",
              "      <td>DFW</td>\n",
              "      <td>74</td>\n",
              "      <td>MKE</td>\n",
              "      <td>45</td>\n",
              "      <td>1956.0</td>\n",
              "      <td>-4.0</td>\n",
              "      <td>0.0</td>\n",
              "      <td>12.0</td>\n",
              "      <td>8.0</td>\n",
              "      <td>2008.0</td>\n",
              "      <td>2208.0</td>\n",
              "      <td>2216.0</td>\n",
              "      <td>-1.0</td>\n",
              "      <td>0.0</td>\n",
              "      <td>0.0</td>\n",
              "      <td>0.0</td>\n",
              "      <td>120.0</td>\n",
              "      <td>853.0</td>\n",
              "      <td>0.0</td>\n",
              "      <td>0.0</td>\n",
              "      <td>0.0</td>\n",
              "      <td>0.0</td>\n",
              "      <td>0.0</td>\n",
              "    </tr>\n",
              "    <tr>\n",
              "      <th>...</th>\n",
              "      <td>...</td>\n",
              "      <td>...</td>\n",
              "      <td>...</td>\n",
              "      <td>...</td>\n",
              "      <td>...</td>\n",
              "      <td>...</td>\n",
              "      <td>...</td>\n",
              "      <td>...</td>\n",
              "      <td>...</td>\n",
              "      <td>...</td>\n",
              "      <td>...</td>\n",
              "      <td>...</td>\n",
              "      <td>...</td>\n",
              "      <td>...</td>\n",
              "      <td>...</td>\n",
              "      <td>...</td>\n",
              "      <td>...</td>\n",
              "      <td>...</td>\n",
              "      <td>...</td>\n",
              "      <td>...</td>\n",
              "      <td>...</td>\n",
              "      <td>...</td>\n",
              "      <td>...</td>\n",
              "      <td>...</td>\n",
              "      <td>...</td>\n",
              "      <td>...</td>\n",
              "      <td>...</td>\n",
              "      <td>...</td>\n",
              "    </tr>\n",
              "    <tr>\n",
              "      <th>1881504</th>\n",
              "      <td>2018</td>\n",
              "      <td>24</td>\n",
              "      <td>3</td>\n",
              "      <td>2018-01-24</td>\n",
              "      <td>AS</td>\n",
              "      <td>DFW</td>\n",
              "      <td>74</td>\n",
              "      <td>PDX</td>\n",
              "      <td>92</td>\n",
              "      <td>1447.0</td>\n",
              "      <td>-3.0</td>\n",
              "      <td>0.0</td>\n",
              "      <td>15.0</td>\n",
              "      <td>3.0</td>\n",
              "      <td>1502.0</td>\n",
              "      <td>1637.0</td>\n",
              "      <td>1640.0</td>\n",
              "      <td>-14.0</td>\n",
              "      <td>0.0</td>\n",
              "      <td>0.0</td>\n",
              "      <td>0.0</td>\n",
              "      <td>215.0</td>\n",
              "      <td>1616.0</td>\n",
              "      <td>0.0</td>\n",
              "      <td>0.0</td>\n",
              "      <td>0.0</td>\n",
              "      <td>0.0</td>\n",
              "      <td>0.0</td>\n",
              "    </tr>\n",
              "    <tr>\n",
              "      <th>1881508</th>\n",
              "      <td>2018</td>\n",
              "      <td>24</td>\n",
              "      <td>3</td>\n",
              "      <td>2018-01-24</td>\n",
              "      <td>AS</td>\n",
              "      <td>DFW</td>\n",
              "      <td>74</td>\n",
              "      <td>SEA</td>\n",
              "      <td>93</td>\n",
              "      <td>1255.0</td>\n",
              "      <td>-13.0</td>\n",
              "      <td>0.0</td>\n",
              "      <td>19.0</td>\n",
              "      <td>10.0</td>\n",
              "      <td>1314.0</td>\n",
              "      <td>1457.0</td>\n",
              "      <td>1507.0</td>\n",
              "      <td>-16.0</td>\n",
              "      <td>0.0</td>\n",
              "      <td>0.0</td>\n",
              "      <td>0.0</td>\n",
              "      <td>223.0</td>\n",
              "      <td>1660.0</td>\n",
              "      <td>0.0</td>\n",
              "      <td>0.0</td>\n",
              "      <td>0.0</td>\n",
              "      <td>0.0</td>\n",
              "      <td>0.0</td>\n",
              "    </tr>\n",
              "    <tr>\n",
              "      <th>1881510</th>\n",
              "      <td>2018</td>\n",
              "      <td>24</td>\n",
              "      <td>3</td>\n",
              "      <td>2018-01-24</td>\n",
              "      <td>AS</td>\n",
              "      <td>DFW</td>\n",
              "      <td>74</td>\n",
              "      <td>SEA</td>\n",
              "      <td>93</td>\n",
              "      <td>1919.0</td>\n",
              "      <td>4.0</td>\n",
              "      <td>0.0</td>\n",
              "      <td>16.0</td>\n",
              "      <td>8.0</td>\n",
              "      <td>1935.0</td>\n",
              "      <td>2117.0</td>\n",
              "      <td>2125.0</td>\n",
              "      <td>-14.0</td>\n",
              "      <td>0.0</td>\n",
              "      <td>0.0</td>\n",
              "      <td>0.0</td>\n",
              "      <td>222.0</td>\n",
              "      <td>1660.0</td>\n",
              "      <td>0.0</td>\n",
              "      <td>0.0</td>\n",
              "      <td>0.0</td>\n",
              "      <td>0.0</td>\n",
              "      <td>0.0</td>\n",
              "    </tr>\n",
              "    <tr>\n",
              "      <th>1881522</th>\n",
              "      <td>2018</td>\n",
              "      <td>24</td>\n",
              "      <td>3</td>\n",
              "      <td>2018-01-24</td>\n",
              "      <td>AS</td>\n",
              "      <td>ORD</td>\n",
              "      <td>41</td>\n",
              "      <td>PDX</td>\n",
              "      <td>92</td>\n",
              "      <td>1707.0</td>\n",
              "      <td>-8.0</td>\n",
              "      <td>0.0</td>\n",
              "      <td>23.0</td>\n",
              "      <td>4.0</td>\n",
              "      <td>1730.0</td>\n",
              "      <td>1939.0</td>\n",
              "      <td>1943.0</td>\n",
              "      <td>-8.0</td>\n",
              "      <td>0.0</td>\n",
              "      <td>0.0</td>\n",
              "      <td>0.0</td>\n",
              "      <td>249.0</td>\n",
              "      <td>1739.0</td>\n",
              "      <td>0.0</td>\n",
              "      <td>0.0</td>\n",
              "      <td>0.0</td>\n",
              "      <td>0.0</td>\n",
              "      <td>0.0</td>\n",
              "    </tr>\n",
              "    <tr>\n",
              "      <th>1881555</th>\n",
              "      <td>2018</td>\n",
              "      <td>24</td>\n",
              "      <td>3</td>\n",
              "      <td>2018-01-24</td>\n",
              "      <td>AS</td>\n",
              "      <td>ATL</td>\n",
              "      <td>34</td>\n",
              "      <td>SEA</td>\n",
              "      <td>93</td>\n",
              "      <td>1558.0</td>\n",
              "      <td>6.0</td>\n",
              "      <td>0.0</td>\n",
              "      <td>17.0</td>\n",
              "      <td>8.0</td>\n",
              "      <td>1615.0</td>\n",
              "      <td>1829.0</td>\n",
              "      <td>1837.0</td>\n",
              "      <td>0.0</td>\n",
              "      <td>0.0</td>\n",
              "      <td>0.0</td>\n",
              "      <td>0.0</td>\n",
              "      <td>314.0</td>\n",
              "      <td>2182.0</td>\n",
              "      <td>0.0</td>\n",
              "      <td>0.0</td>\n",
              "      <td>0.0</td>\n",
              "      <td>0.0</td>\n",
              "      <td>0.0</td>\n",
              "    </tr>\n",
              "  </tbody>\n",
              "</table>\n",
              "<p>277372 rows × 28 columns</p>\n",
              "</div>"
            ],
            "text/plain": [
              "         YEAR  DAY_OF_MONTH  ...  SECURITY_DELAY LATE_AIRCRAFT_DELAY\n",
              "0        2015            15  ...             0.0                13.0\n",
              "1        2015            16  ...             0.0                 0.0\n",
              "2        2015            17  ...             0.0                 0.0\n",
              "3        2015            18  ...             0.0                 0.0\n",
              "4        2015            19  ...             0.0                 0.0\n",
              "...       ...           ...  ...             ...                 ...\n",
              "1881504  2018            24  ...             0.0                 0.0\n",
              "1881508  2018            24  ...             0.0                 0.0\n",
              "1881510  2018            24  ...             0.0                 0.0\n",
              "1881522  2018            24  ...             0.0                 0.0\n",
              "1881555  2018            24  ...             0.0                 0.0\n",
              "\n",
              "[277372 rows x 28 columns]"
            ]
          },
          "metadata": {
            "tags": []
          },
          "execution_count": 17
        }
      ]
    },
    {
      "cell_type": "code",
      "metadata": {
        "id": "tCYLoxCSYlAy",
        "colab": {
          "base_uri": "https://localhost:8080/"
        },
        "outputId": "39083216-e187-4511-a64c-0be13a1ed204"
      },
      "source": [
        "focused_df.dtypes"
      ],
      "execution_count": 18,
      "outputs": [
        {
          "output_type": "execute_result",
          "data": {
            "text/plain": [
              "YEAR                     int64\n",
              "DAY_OF_MONTH             int64\n",
              "DAY_OF_WEEK              int64\n",
              "FL_DATE                 object\n",
              "OP_UNIQUE_CARRIER       object\n",
              "ORIGIN                  object\n",
              "ORIGIN_WAC               int64\n",
              "DEST                    object\n",
              "DEST_WAC                 int64\n",
              "DEP_TIME               float64\n",
              "DEP_DELAY              float64\n",
              "DEP_DEL15              float64\n",
              "TAXI_OUT               float64\n",
              "TAXI_IN                float64\n",
              "WHEELS_OFF             float64\n",
              "WHEELS_ON              float64\n",
              "ARR_TIME               float64\n",
              "ARR_DELAY              float64\n",
              "ARR_DEL15              float64\n",
              "CANCELLED              float64\n",
              "DIVERTED               float64\n",
              "AIR_TIME               float64\n",
              "DISTANCE               float64\n",
              "CARRIER_DELAY          float64\n",
              "WEATHER_DELAY          float64\n",
              "NAS_DELAY              float64\n",
              "SECURITY_DELAY         float64\n",
              "LATE_AIRCRAFT_DELAY    float64\n",
              "dtype: object"
            ]
          },
          "metadata": {
            "tags": []
          },
          "execution_count": 18
        }
      ]
    },
    {
      "cell_type": "code",
      "metadata": {
        "id": "kN2bYDFbK2lP"
      },
      "source": [
        "focused_df.to_csv('focused_df.csv', index = False)"
      ],
      "execution_count": 19,
      "outputs": []
    },
    {
      "cell_type": "code",
      "metadata": {
        "id": "BsGANMns2N0O"
      },
      "source": [
        "origin_focus_test.to_csv('test_focused_df.csv', index = False)"
      ],
      "execution_count": 20,
      "outputs": []
    },
    {
      "cell_type": "markdown",
      "metadata": {
        "id": "-WxXbJUjOn9R"
      },
      "source": [
        "### Preparing second testing data, where I will include just WN."
      ]
    },
    {
      "cell_type": "code",
      "metadata": {
        "id": "HJt3eulHOiaC"
      },
      "source": [
        "test_data_WN = origin_focus_test[(origin_focus_test.OP_UNIQUE_CARRIER=='WN')]"
      ],
      "execution_count": 21,
      "outputs": []
    },
    {
      "cell_type": "code",
      "metadata": {
        "id": "a-Et8C20Oiqh"
      },
      "source": [
        "test_data_DL = origin_focus_test[(origin_focus_test.OP_UNIQUE_CARRIER=='DL')]"
      ],
      "execution_count": 22,
      "outputs": []
    },
    {
      "cell_type": "code",
      "metadata": {
        "id": "0Hscl0DXOits"
      },
      "source": [
        "test_data_OO = origin_focus_test[(origin_focus_test.OP_UNIQUE_CARRIER=='OO')]"
      ],
      "execution_count": 23,
      "outputs": []
    },
    {
      "cell_type": "code",
      "metadata": {
        "colab": {
          "base_uri": "https://localhost:8080/"
        },
        "id": "Tly6_kihQV5F",
        "outputId": "d32a864f-2ef9-426f-af7e-6f310eef36dc"
      },
      "source": [
        "test_data_DL.shape"
      ],
      "execution_count": 24,
      "outputs": [
        {
          "output_type": "execute_result",
          "data": {
            "text/plain": [
              "(20145, 28)"
            ]
          },
          "metadata": {
            "tags": []
          },
          "execution_count": 24
        }
      ]
    },
    {
      "cell_type": "markdown",
      "metadata": {
        "id": "aDTVkG3eQwuV"
      },
      "source": [
        "# **Saving the testing data focused on the top 3 airlines -**\n"
      ]
    },
    {
      "cell_type": "code",
      "metadata": {
        "id": "XlyrHqUOOixO"
      },
      "source": [
        "test_data_WN.to_csv('test_WN.csv', index = False)"
      ],
      "execution_count": 25,
      "outputs": []
    },
    {
      "cell_type": "code",
      "metadata": {
        "id": "REz5fQ83RAua"
      },
      "source": [
        "test_data_DL.to_csv('test_DL.csv', index = False)"
      ],
      "execution_count": 26,
      "outputs": []
    },
    {
      "cell_type": "code",
      "metadata": {
        "id": "coFS0dMbRApo"
      },
      "source": [
        "test_data_OO.to_csv('test_OO.csv', index = False)"
      ],
      "execution_count": 27,
      "outputs": []
    },
    {
      "cell_type": "code",
      "metadata": {
        "colab": {
          "base_uri": "https://localhost:8080/"
        },
        "id": "N3BiXcupjUp2",
        "outputId": "f2e660b6-39f1-413b-85f3-b8a46a421c98"
      },
      "source": [
        "focused_df.columns"
      ],
      "execution_count": 28,
      "outputs": [
        {
          "output_type": "execute_result",
          "data": {
            "text/plain": [
              "Index(['YEAR', 'DAY_OF_MONTH', 'DAY_OF_WEEK', 'FL_DATE', 'OP_UNIQUE_CARRIER',\n",
              "       'ORIGIN', 'ORIGIN_WAC', 'DEST', 'DEST_WAC', 'DEP_TIME', 'DEP_DELAY',\n",
              "       'DEP_DEL15', 'TAXI_OUT', 'TAXI_IN', 'WHEELS_OFF', 'WHEELS_ON',\n",
              "       'ARR_TIME', 'ARR_DELAY', 'ARR_DEL15', 'CANCELLED', 'DIVERTED',\n",
              "       'AIR_TIME', 'DISTANCE', 'CARRIER_DELAY', 'WEATHER_DELAY', 'NAS_DELAY',\n",
              "       'SECURITY_DELAY', 'LATE_AIRCRAFT_DELAY'],\n",
              "      dtype='object')"
            ]
          },
          "metadata": {
            "tags": []
          },
          "execution_count": 28
        }
      ]
    },
    {
      "cell_type": "code",
      "metadata": {
        "id": "d9j3VcBQan6X"
      },
      "source": [
        "train_data = pd.read_csv('/content/focused_df.csv')"
      ],
      "execution_count": 29,
      "outputs": []
    },
    {
      "cell_type": "code",
      "metadata": {
        "colab": {
          "base_uri": "https://localhost:8080/",
          "height": 609
        },
        "id": "_u8kYTlOkuiU",
        "outputId": "750e34ce-71f3-4c78-9048-ec99ce837005"
      },
      "source": [
        "train_data"
      ],
      "execution_count": 30,
      "outputs": [
        {
          "output_type": "execute_result",
          "data": {
            "text/html": [
              "<div>\n",
              "<style scoped>\n",
              "    .dataframe tbody tr th:only-of-type {\n",
              "        vertical-align: middle;\n",
              "    }\n",
              "\n",
              "    .dataframe tbody tr th {\n",
              "        vertical-align: top;\n",
              "    }\n",
              "\n",
              "    .dataframe thead th {\n",
              "        text-align: right;\n",
              "    }\n",
              "</style>\n",
              "<table border=\"1\" class=\"dataframe\">\n",
              "  <thead>\n",
              "    <tr style=\"text-align: right;\">\n",
              "      <th></th>\n",
              "      <th>YEAR</th>\n",
              "      <th>DAY_OF_MONTH</th>\n",
              "      <th>DAY_OF_WEEK</th>\n",
              "      <th>FL_DATE</th>\n",
              "      <th>OP_UNIQUE_CARRIER</th>\n",
              "      <th>ORIGIN</th>\n",
              "      <th>ORIGIN_WAC</th>\n",
              "      <th>DEST</th>\n",
              "      <th>DEST_WAC</th>\n",
              "      <th>DEP_TIME</th>\n",
              "      <th>DEP_DELAY</th>\n",
              "      <th>DEP_DEL15</th>\n",
              "      <th>TAXI_OUT</th>\n",
              "      <th>TAXI_IN</th>\n",
              "      <th>WHEELS_OFF</th>\n",
              "      <th>WHEELS_ON</th>\n",
              "      <th>ARR_TIME</th>\n",
              "      <th>ARR_DELAY</th>\n",
              "      <th>ARR_DEL15</th>\n",
              "      <th>CANCELLED</th>\n",
              "      <th>DIVERTED</th>\n",
              "      <th>AIR_TIME</th>\n",
              "      <th>DISTANCE</th>\n",
              "      <th>CARRIER_DELAY</th>\n",
              "      <th>WEATHER_DELAY</th>\n",
              "      <th>NAS_DELAY</th>\n",
              "      <th>SECURITY_DELAY</th>\n",
              "      <th>LATE_AIRCRAFT_DELAY</th>\n",
              "    </tr>\n",
              "  </thead>\n",
              "  <tbody>\n",
              "    <tr>\n",
              "      <th>0</th>\n",
              "      <td>2015</td>\n",
              "      <td>15</td>\n",
              "      <td>4</td>\n",
              "      <td>2015-01-15</td>\n",
              "      <td>AA</td>\n",
              "      <td>DFW</td>\n",
              "      <td>74</td>\n",
              "      <td>MKE</td>\n",
              "      <td>45</td>\n",
              "      <td>2032.0</td>\n",
              "      <td>32.0</td>\n",
              "      <td>1.0</td>\n",
              "      <td>13.0</td>\n",
              "      <td>5.0</td>\n",
              "      <td>2045.0</td>\n",
              "      <td>2236.0</td>\n",
              "      <td>2241.0</td>\n",
              "      <td>24.0</td>\n",
              "      <td>1.0</td>\n",
              "      <td>0.0</td>\n",
              "      <td>0.0</td>\n",
              "      <td>111.0</td>\n",
              "      <td>853.0</td>\n",
              "      <td>11.0</td>\n",
              "      <td>0.0</td>\n",
              "      <td>0.0</td>\n",
              "      <td>0.0</td>\n",
              "      <td>13.0</td>\n",
              "    </tr>\n",
              "    <tr>\n",
              "      <th>1</th>\n",
              "      <td>2015</td>\n",
              "      <td>16</td>\n",
              "      <td>5</td>\n",
              "      <td>2015-01-16</td>\n",
              "      <td>AA</td>\n",
              "      <td>DFW</td>\n",
              "      <td>74</td>\n",
              "      <td>MKE</td>\n",
              "      <td>45</td>\n",
              "      <td>2044.0</td>\n",
              "      <td>44.0</td>\n",
              "      <td>1.0</td>\n",
              "      <td>12.0</td>\n",
              "      <td>8.0</td>\n",
              "      <td>2056.0</td>\n",
              "      <td>2252.0</td>\n",
              "      <td>2300.0</td>\n",
              "      <td>43.0</td>\n",
              "      <td>1.0</td>\n",
              "      <td>0.0</td>\n",
              "      <td>0.0</td>\n",
              "      <td>116.0</td>\n",
              "      <td>853.0</td>\n",
              "      <td>43.0</td>\n",
              "      <td>0.0</td>\n",
              "      <td>0.0</td>\n",
              "      <td>0.0</td>\n",
              "      <td>0.0</td>\n",
              "    </tr>\n",
              "    <tr>\n",
              "      <th>2</th>\n",
              "      <td>2015</td>\n",
              "      <td>17</td>\n",
              "      <td>6</td>\n",
              "      <td>2015-01-17</td>\n",
              "      <td>AA</td>\n",
              "      <td>DFW</td>\n",
              "      <td>74</td>\n",
              "      <td>MKE</td>\n",
              "      <td>45</td>\n",
              "      <td>1955.0</td>\n",
              "      <td>-5.0</td>\n",
              "      <td>0.0</td>\n",
              "      <td>15.0</td>\n",
              "      <td>7.0</td>\n",
              "      <td>2010.0</td>\n",
              "      <td>2157.0</td>\n",
              "      <td>2204.0</td>\n",
              "      <td>-13.0</td>\n",
              "      <td>0.0</td>\n",
              "      <td>0.0</td>\n",
              "      <td>0.0</td>\n",
              "      <td>107.0</td>\n",
              "      <td>853.0</td>\n",
              "      <td>0.0</td>\n",
              "      <td>0.0</td>\n",
              "      <td>0.0</td>\n",
              "      <td>0.0</td>\n",
              "      <td>0.0</td>\n",
              "    </tr>\n",
              "    <tr>\n",
              "      <th>3</th>\n",
              "      <td>2015</td>\n",
              "      <td>18</td>\n",
              "      <td>7</td>\n",
              "      <td>2015-01-18</td>\n",
              "      <td>AA</td>\n",
              "      <td>DFW</td>\n",
              "      <td>74</td>\n",
              "      <td>MKE</td>\n",
              "      <td>45</td>\n",
              "      <td>1957.0</td>\n",
              "      <td>-3.0</td>\n",
              "      <td>0.0</td>\n",
              "      <td>12.0</td>\n",
              "      <td>4.0</td>\n",
              "      <td>2009.0</td>\n",
              "      <td>2205.0</td>\n",
              "      <td>2209.0</td>\n",
              "      <td>-8.0</td>\n",
              "      <td>0.0</td>\n",
              "      <td>0.0</td>\n",
              "      <td>0.0</td>\n",
              "      <td>116.0</td>\n",
              "      <td>853.0</td>\n",
              "      <td>0.0</td>\n",
              "      <td>0.0</td>\n",
              "      <td>0.0</td>\n",
              "      <td>0.0</td>\n",
              "      <td>0.0</td>\n",
              "    </tr>\n",
              "    <tr>\n",
              "      <th>4</th>\n",
              "      <td>2015</td>\n",
              "      <td>19</td>\n",
              "      <td>1</td>\n",
              "      <td>2015-01-19</td>\n",
              "      <td>AA</td>\n",
              "      <td>DFW</td>\n",
              "      <td>74</td>\n",
              "      <td>MKE</td>\n",
              "      <td>45</td>\n",
              "      <td>1956.0</td>\n",
              "      <td>-4.0</td>\n",
              "      <td>0.0</td>\n",
              "      <td>12.0</td>\n",
              "      <td>8.0</td>\n",
              "      <td>2008.0</td>\n",
              "      <td>2208.0</td>\n",
              "      <td>2216.0</td>\n",
              "      <td>-1.0</td>\n",
              "      <td>0.0</td>\n",
              "      <td>0.0</td>\n",
              "      <td>0.0</td>\n",
              "      <td>120.0</td>\n",
              "      <td>853.0</td>\n",
              "      <td>0.0</td>\n",
              "      <td>0.0</td>\n",
              "      <td>0.0</td>\n",
              "      <td>0.0</td>\n",
              "      <td>0.0</td>\n",
              "    </tr>\n",
              "    <tr>\n",
              "      <th>...</th>\n",
              "      <td>...</td>\n",
              "      <td>...</td>\n",
              "      <td>...</td>\n",
              "      <td>...</td>\n",
              "      <td>...</td>\n",
              "      <td>...</td>\n",
              "      <td>...</td>\n",
              "      <td>...</td>\n",
              "      <td>...</td>\n",
              "      <td>...</td>\n",
              "      <td>...</td>\n",
              "      <td>...</td>\n",
              "      <td>...</td>\n",
              "      <td>...</td>\n",
              "      <td>...</td>\n",
              "      <td>...</td>\n",
              "      <td>...</td>\n",
              "      <td>...</td>\n",
              "      <td>...</td>\n",
              "      <td>...</td>\n",
              "      <td>...</td>\n",
              "      <td>...</td>\n",
              "      <td>...</td>\n",
              "      <td>...</td>\n",
              "      <td>...</td>\n",
              "      <td>...</td>\n",
              "      <td>...</td>\n",
              "      <td>...</td>\n",
              "    </tr>\n",
              "    <tr>\n",
              "      <th>277367</th>\n",
              "      <td>2018</td>\n",
              "      <td>24</td>\n",
              "      <td>3</td>\n",
              "      <td>2018-01-24</td>\n",
              "      <td>AS</td>\n",
              "      <td>DFW</td>\n",
              "      <td>74</td>\n",
              "      <td>PDX</td>\n",
              "      <td>92</td>\n",
              "      <td>1447.0</td>\n",
              "      <td>-3.0</td>\n",
              "      <td>0.0</td>\n",
              "      <td>15.0</td>\n",
              "      <td>3.0</td>\n",
              "      <td>1502.0</td>\n",
              "      <td>1637.0</td>\n",
              "      <td>1640.0</td>\n",
              "      <td>-14.0</td>\n",
              "      <td>0.0</td>\n",
              "      <td>0.0</td>\n",
              "      <td>0.0</td>\n",
              "      <td>215.0</td>\n",
              "      <td>1616.0</td>\n",
              "      <td>0.0</td>\n",
              "      <td>0.0</td>\n",
              "      <td>0.0</td>\n",
              "      <td>0.0</td>\n",
              "      <td>0.0</td>\n",
              "    </tr>\n",
              "    <tr>\n",
              "      <th>277368</th>\n",
              "      <td>2018</td>\n",
              "      <td>24</td>\n",
              "      <td>3</td>\n",
              "      <td>2018-01-24</td>\n",
              "      <td>AS</td>\n",
              "      <td>DFW</td>\n",
              "      <td>74</td>\n",
              "      <td>SEA</td>\n",
              "      <td>93</td>\n",
              "      <td>1255.0</td>\n",
              "      <td>-13.0</td>\n",
              "      <td>0.0</td>\n",
              "      <td>19.0</td>\n",
              "      <td>10.0</td>\n",
              "      <td>1314.0</td>\n",
              "      <td>1457.0</td>\n",
              "      <td>1507.0</td>\n",
              "      <td>-16.0</td>\n",
              "      <td>0.0</td>\n",
              "      <td>0.0</td>\n",
              "      <td>0.0</td>\n",
              "      <td>223.0</td>\n",
              "      <td>1660.0</td>\n",
              "      <td>0.0</td>\n",
              "      <td>0.0</td>\n",
              "      <td>0.0</td>\n",
              "      <td>0.0</td>\n",
              "      <td>0.0</td>\n",
              "    </tr>\n",
              "    <tr>\n",
              "      <th>277369</th>\n",
              "      <td>2018</td>\n",
              "      <td>24</td>\n",
              "      <td>3</td>\n",
              "      <td>2018-01-24</td>\n",
              "      <td>AS</td>\n",
              "      <td>DFW</td>\n",
              "      <td>74</td>\n",
              "      <td>SEA</td>\n",
              "      <td>93</td>\n",
              "      <td>1919.0</td>\n",
              "      <td>4.0</td>\n",
              "      <td>0.0</td>\n",
              "      <td>16.0</td>\n",
              "      <td>8.0</td>\n",
              "      <td>1935.0</td>\n",
              "      <td>2117.0</td>\n",
              "      <td>2125.0</td>\n",
              "      <td>-14.0</td>\n",
              "      <td>0.0</td>\n",
              "      <td>0.0</td>\n",
              "      <td>0.0</td>\n",
              "      <td>222.0</td>\n",
              "      <td>1660.0</td>\n",
              "      <td>0.0</td>\n",
              "      <td>0.0</td>\n",
              "      <td>0.0</td>\n",
              "      <td>0.0</td>\n",
              "      <td>0.0</td>\n",
              "    </tr>\n",
              "    <tr>\n",
              "      <th>277370</th>\n",
              "      <td>2018</td>\n",
              "      <td>24</td>\n",
              "      <td>3</td>\n",
              "      <td>2018-01-24</td>\n",
              "      <td>AS</td>\n",
              "      <td>ORD</td>\n",
              "      <td>41</td>\n",
              "      <td>PDX</td>\n",
              "      <td>92</td>\n",
              "      <td>1707.0</td>\n",
              "      <td>-8.0</td>\n",
              "      <td>0.0</td>\n",
              "      <td>23.0</td>\n",
              "      <td>4.0</td>\n",
              "      <td>1730.0</td>\n",
              "      <td>1939.0</td>\n",
              "      <td>1943.0</td>\n",
              "      <td>-8.0</td>\n",
              "      <td>0.0</td>\n",
              "      <td>0.0</td>\n",
              "      <td>0.0</td>\n",
              "      <td>249.0</td>\n",
              "      <td>1739.0</td>\n",
              "      <td>0.0</td>\n",
              "      <td>0.0</td>\n",
              "      <td>0.0</td>\n",
              "      <td>0.0</td>\n",
              "      <td>0.0</td>\n",
              "    </tr>\n",
              "    <tr>\n",
              "      <th>277371</th>\n",
              "      <td>2018</td>\n",
              "      <td>24</td>\n",
              "      <td>3</td>\n",
              "      <td>2018-01-24</td>\n",
              "      <td>AS</td>\n",
              "      <td>ATL</td>\n",
              "      <td>34</td>\n",
              "      <td>SEA</td>\n",
              "      <td>93</td>\n",
              "      <td>1558.0</td>\n",
              "      <td>6.0</td>\n",
              "      <td>0.0</td>\n",
              "      <td>17.0</td>\n",
              "      <td>8.0</td>\n",
              "      <td>1615.0</td>\n",
              "      <td>1829.0</td>\n",
              "      <td>1837.0</td>\n",
              "      <td>0.0</td>\n",
              "      <td>0.0</td>\n",
              "      <td>0.0</td>\n",
              "      <td>0.0</td>\n",
              "      <td>314.0</td>\n",
              "      <td>2182.0</td>\n",
              "      <td>0.0</td>\n",
              "      <td>0.0</td>\n",
              "      <td>0.0</td>\n",
              "      <td>0.0</td>\n",
              "      <td>0.0</td>\n",
              "    </tr>\n",
              "  </tbody>\n",
              "</table>\n",
              "<p>277372 rows × 28 columns</p>\n",
              "</div>"
            ],
            "text/plain": [
              "        YEAR  DAY_OF_MONTH  ...  SECURITY_DELAY LATE_AIRCRAFT_DELAY\n",
              "0       2015            15  ...             0.0                13.0\n",
              "1       2015            16  ...             0.0                 0.0\n",
              "2       2015            17  ...             0.0                 0.0\n",
              "3       2015            18  ...             0.0                 0.0\n",
              "4       2015            19  ...             0.0                 0.0\n",
              "...      ...           ...  ...             ...                 ...\n",
              "277367  2018            24  ...             0.0                 0.0\n",
              "277368  2018            24  ...             0.0                 0.0\n",
              "277369  2018            24  ...             0.0                 0.0\n",
              "277370  2018            24  ...             0.0                 0.0\n",
              "277371  2018            24  ...             0.0                 0.0\n",
              "\n",
              "[277372 rows x 28 columns]"
            ]
          },
          "metadata": {
            "tags": []
          },
          "execution_count": 30
        }
      ]
    }
  ]
}